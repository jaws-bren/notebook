{
 "cells": [
  {
   "cell_type": "markdown",
   "id": "63b97f48-c12d-4f2d-a1c6-e993371eae5e",
   "metadata": {},
   "source": [
    "# Landsat 8: \n",
    "## EDS 220, Fall 2021\n",
    "Friday, November 19"
   ]
  },
  {
   "cell_type": "markdown",
   "id": "73253f48-a0a1-400a-9680-b013de5b8be4",
   "metadata": {},
   "source": [
    "## Authors\n",
    "\n",
    "- Alex Vand, UC Santa Barbara (asy@bren.ucsb.edu)\n",
    "- Julia Parish, UC Santa Barbara (jparish@bren.ucsb.edu)\n",
    "- Wylie Hampson, UC Santa Barbara (whampson@bren.ucsb.edu)\n",
    "- Shale Hunter, UC Santa Barbara (shale@bren.ucsb.edu)"
   ]
  },
  {
   "cell_type": "markdown",
   "id": "51e07e4b-59dd-4f79-a599-296f2ba7c09a",
   "metadata": {},
   "source": [
    "## Table of Contents\n",
    "\n",
    "[1. Purpose](#purpose)\n",
    "\n",
    "[2. Dataset Description](#overview)\n",
    "\n",
    "[3. Data I/O](#io)\n",
    "\n",
    "[4. Metadata Display and Basic Visualization](#display)\n",
    "\n",
    "[5. Use Case Examples](#usecases)\n",
    "\n",
    "[6. Create Binder Environment](#binder)\n",
    "\n",
    "[7. References](#references)"
   ]
  },
  {
   "cell_type": "markdown",
   "id": "e7721146-dbd0-4955-ae95-313272cea288",
   "metadata": {
    "tags": []
   },
   "source": [
    "<a id='purpose'></a> \n",
    "### Notebook Purpose\n",
    "\n",
    "This notebook was created to provide an introduction to using satellite data from the <a href=\"https://developers.google.com/earth-engine/datasets/catalog/LANDSAT_LC08_C02_T1_L2#description/\" target=\"_blank\">USGS Landsat 8 Level 2, Collection 2, Tier 1</a> sourced from Google Earth Engine for analysis to identify soil composition.\n"
   ]
  },
  {
   "cell_type": "markdown",
   "id": "cbfff42f-a933-478c-8330-0104769db1f1",
   "metadata": {},
   "source": [
    "<a id='overview'></a> \n",
    "### Dataset Description\n",
    "\n",
    "\n",
    "- The creators of the dataset: Joint program of USGS and NASA\n",
    "\n",
    "- Major characteristics of the dataset: \n",
    "\n",
    "Data collected from 2013-04-11 to 2021-10-21.\n",
    "Landsat satellites image the entire Earth every 16 days; 99 min per orbit.\n",
    "CRS: WGS 84\n",
    "Surface reflectance, not top of atmosphere.\n",
    "Bands: 5 visible and near-infrared, 2 shortwave infrared, 1 thermal band\n",
    "\n",
    "- The file format(s) used to store the data: TIFF\n",
    "\n",
    "- The source/archive you will be using to retrieve the data: Google Earth Engine <a href=\"https://developers.google.com/earth-engine/datasets/catalog/LANDSAT_LC08_C02_T1_L2#description/\" target=\"_blank\">USGS Landsat 8 Level 2, Collection 2, Tier 1</a>\n",
    "\n",
    "- Any known issues with data quality that might be expected to impact the results<br>\n",
    "Since the data is coming from Landsat 8, we can trust that it is generally pretty reliable data. The remote sensing equipment on Landsat 8 is the Operational Land Imager (OLI) which is a multichannel scanning radiometer,and a two-channel infared radiometer, Thermal Infrared Sensor (TIRS).<br>\n",
    "There are some known issues with this dataset, but many of them don’t concern most people that may be using this data. One of the most concerning issues is with cloud cover and cloud shadows. The data from this dataset can be affected if there is heavy cloud coverage. The images from the dataset have a 30 meter resolution which will allow us to get high definition images for the area of land that we will be looking at. If you were to look at a small area of land, say a few square kilometers, this data set may not be ideal because the 30 meter resolution won’t allow you to see much detail, but for this use case it works well."
   ]
  },
  {
   "cell_type": "markdown",
   "id": "bbd9d12b-13e5-47ac-8100-af02ac0c1dfb",
   "metadata": {},
   "source": [
    "<a id='io'></a> \n",
    "### Dataset Input/Output "
   ]
  },
  {
   "cell_type": "code",
   "execution_count": 1,
   "id": "e385630f-a73f-47b7-9481-bf5502720493",
   "metadata": {},
   "outputs": [],
   "source": [
    "import ee\n",
    "import geemap\n",
    "import pandas as pd\n",
    "import matplotlib.pyplot as plt\n",
    "import numpy as np"
   ]
  },
  {
   "cell_type": "code",
   "execution_count": 2,
   "id": "4c6f5e4c-79d9-4798-bab2-e0ff251d6051",
   "metadata": {},
   "outputs": [
    {
     "data": {
      "text/html": [
       "<p>To authorize access needed by Earth Engine, open the following\n",
       "        URL in a web browser and follow the instructions:</p>\n",
       "        <p><a href=https://accounts.google.com/o/oauth2/auth?client_id=517222506229-vsmmajv00ul0bs7p89v5m89qs8eb9359.apps.googleusercontent.com&scope=https%3A%2F%2Fwww.googleapis.com%2Fauth%2Fearthengine+https%3A%2F%2Fwww.googleapis.com%2Fauth%2Fdevstorage.full_control&redirect_uri=urn%3Aietf%3Awg%3Aoauth%3A2.0%3Aoob&response_type=code&code_challenge=kzBYN9G5aeOR1-vlpsf3TjCT-zOtEPD-nWZCRfAUu2k&code_challenge_method=S256>https://accounts.google.com/o/oauth2/auth?client_id=517222506229-vsmmajv00ul0bs7p89v5m89qs8eb9359.apps.googleusercontent.com&scope=https%3A%2F%2Fwww.googleapis.com%2Fauth%2Fearthengine+https%3A%2F%2Fwww.googleapis.com%2Fauth%2Fdevstorage.full_control&redirect_uri=urn%3Aietf%3Awg%3Aoauth%3A2.0%3Aoob&response_type=code&code_challenge=kzBYN9G5aeOR1-vlpsf3TjCT-zOtEPD-nWZCRfAUu2k&code_challenge_method=S256</a></p>\n",
       "        <p>The authorization workflow will generate a code, which you\n",
       "        should paste in the box below</p>\n",
       "        "
      ],
      "text/plain": [
       "<IPython.core.display.HTML object>"
      ]
     },
     "metadata": {},
     "output_type": "display_data"
    },
    {
     "name": "stdin",
     "output_type": "stream",
     "text": [
      "Enter verification code:  4/1AX4XfWhi9ogk7WbuJ9WuzpTIWzDnYW6ltni3UK_aIWuPkGcAx3X79ZbZw-A\n"
     ]
    },
    {
     "name": "stdout",
     "output_type": "stream",
     "text": [
      "\n",
      "Successfully saved authorization token.\n"
     ]
    }
   ],
   "source": [
    "ee.Authenticate()\n",
    "ee.Initialize()"
   ]
  },
  {
   "cell_type": "markdown",
   "id": "41944590-a524-47e9-afbd-3d4d32306c10",
   "metadata": {},
   "source": [
    "<a id='display'></a> \n",
    "### Metadata Display and Basic Visualization"
   ]
  },
  {
   "cell_type": "code",
   "execution_count": 24,
   "id": "a1c2f4ee-ecba-4ff3-9ed6-f290b409cc30",
   "metadata": {},
   "outputs": [],
   "source": [
    "# create a centroid over region of interest, Guadalupe Mountains of New Mexico and Texas\n",
    "\n",
    "center_lat = 32.05\n",
    "center_lon = -104.74\n",
    "center_point = ee.Geometry.Point(center_lon, center_lat)\n",
    "roi = center_point.buffer(50000)"
   ]
  },
  {
   "cell_type": "code",
   "execution_count": 25,
   "id": "a2d56586-439d-41db-a4ac-a1c78015c7e1",
   "metadata": {},
   "outputs": [],
   "source": [
    "# read in Landsat 8 data from Google Earth Engine and create boundary filter using centroid point\n",
    "\n",
    "data = ee.ImageCollection(\"LANDSAT/LC08/C02/T1_L2\")"
   ]
  },
  {
   "cell_type": "code",
   "execution_count": 26,
   "id": "983f57e3-824e-46e8-9cb9-7df74febf9fa",
   "metadata": {},
   "outputs": [
    {
     "data": {
      "text/plain": [
       "{'type': 'Image',\n",
       " 'bands': [{'id': 'SR_B1',\n",
       "   'data_type': {'type': 'PixelType',\n",
       "    'precision': 'int',\n",
       "    'min': 0,\n",
       "    'max': 65535},\n",
       "   'dimensions': [9161, 9161],\n",
       "   'crs': 'EPSG:32628',\n",
       "   'crs_transform': [30, 0, 341085, 0, -30, 8808015]},\n",
       "  {'id': 'SR_B2',\n",
       "   'data_type': {'type': 'PixelType',\n",
       "    'precision': 'int',\n",
       "    'min': 0,\n",
       "    'max': 65535},\n",
       "   'dimensions': [9161, 9161],\n",
       "   'crs': 'EPSG:32628',\n",
       "   'crs_transform': [30, 0, 341085, 0, -30, 8808015]},\n",
       "  {'id': 'SR_B3',\n",
       "   'data_type': {'type': 'PixelType',\n",
       "    'precision': 'int',\n",
       "    'min': 0,\n",
       "    'max': 65535},\n",
       "   'dimensions': [9161, 9161],\n",
       "   'crs': 'EPSG:32628',\n",
       "   'crs_transform': [30, 0, 341085, 0, -30, 8808015]},\n",
       "  {'id': 'SR_B4',\n",
       "   'data_type': {'type': 'PixelType',\n",
       "    'precision': 'int',\n",
       "    'min': 0,\n",
       "    'max': 65535},\n",
       "   'dimensions': [9161, 9161],\n",
       "   'crs': 'EPSG:32628',\n",
       "   'crs_transform': [30, 0, 341085, 0, -30, 8808015]},\n",
       "  {'id': 'SR_B5',\n",
       "   'data_type': {'type': 'PixelType',\n",
       "    'precision': 'int',\n",
       "    'min': 0,\n",
       "    'max': 65535},\n",
       "   'dimensions': [9161, 9161],\n",
       "   'crs': 'EPSG:32628',\n",
       "   'crs_transform': [30, 0, 341085, 0, -30, 8808015]},\n",
       "  {'id': 'SR_B6',\n",
       "   'data_type': {'type': 'PixelType',\n",
       "    'precision': 'int',\n",
       "    'min': 0,\n",
       "    'max': 65535},\n",
       "   'dimensions': [9161, 9161],\n",
       "   'crs': 'EPSG:32628',\n",
       "   'crs_transform': [30, 0, 341085, 0, -30, 8808015]},\n",
       "  {'id': 'SR_B7',\n",
       "   'data_type': {'type': 'PixelType',\n",
       "    'precision': 'int',\n",
       "    'min': 0,\n",
       "    'max': 65535},\n",
       "   'dimensions': [9161, 9161],\n",
       "   'crs': 'EPSG:32628',\n",
       "   'crs_transform': [30, 0, 341085, 0, -30, 8808015]},\n",
       "  {'id': 'SR_QA_AEROSOL',\n",
       "   'data_type': {'type': 'PixelType',\n",
       "    'precision': 'int',\n",
       "    'min': 0,\n",
       "    'max': 255},\n",
       "   'dimensions': [9161, 9161],\n",
       "   'crs': 'EPSG:32628',\n",
       "   'crs_transform': [30, 0, 341085, 0, -30, 8808015]},\n",
       "  {'id': 'ST_B10',\n",
       "   'data_type': {'type': 'PixelType',\n",
       "    'precision': 'int',\n",
       "    'min': 0,\n",
       "    'max': 65535},\n",
       "   'dimensions': [9161, 9161],\n",
       "   'crs': 'EPSG:32628',\n",
       "   'crs_transform': [30, 0, 341085, 0, -30, 8808015]},\n",
       "  {'id': 'ST_ATRAN',\n",
       "   'data_type': {'type': 'PixelType',\n",
       "    'precision': 'int',\n",
       "    'min': -32768,\n",
       "    'max': 32767},\n",
       "   'dimensions': [9161, 9161],\n",
       "   'crs': 'EPSG:32628',\n",
       "   'crs_transform': [30, 0, 341085, 0, -30, 8808015]},\n",
       "  {'id': 'ST_CDIST',\n",
       "   'data_type': {'type': 'PixelType',\n",
       "    'precision': 'int',\n",
       "    'min': -32768,\n",
       "    'max': 32767},\n",
       "   'dimensions': [9161, 9161],\n",
       "   'crs': 'EPSG:32628',\n",
       "   'crs_transform': [30, 0, 341085, 0, -30, 8808015]},\n",
       "  {'id': 'ST_DRAD',\n",
       "   'data_type': {'type': 'PixelType',\n",
       "    'precision': 'int',\n",
       "    'min': -32768,\n",
       "    'max': 32767},\n",
       "   'dimensions': [9161, 9161],\n",
       "   'crs': 'EPSG:32628',\n",
       "   'crs_transform': [30, 0, 341085, 0, -30, 8808015]},\n",
       "  {'id': 'ST_EMIS',\n",
       "   'data_type': {'type': 'PixelType',\n",
       "    'precision': 'int',\n",
       "    'min': -32768,\n",
       "    'max': 32767},\n",
       "   'dimensions': [9161, 9161],\n",
       "   'crs': 'EPSG:32628',\n",
       "   'crs_transform': [30, 0, 341085, 0, -30, 8808015]},\n",
       "  {'id': 'ST_EMSD',\n",
       "   'data_type': {'type': 'PixelType',\n",
       "    'precision': 'int',\n",
       "    'min': -32768,\n",
       "    'max': 32767},\n",
       "   'dimensions': [9161, 9161],\n",
       "   'crs': 'EPSG:32628',\n",
       "   'crs_transform': [30, 0, 341085, 0, -30, 8808015]},\n",
       "  {'id': 'ST_QA',\n",
       "   'data_type': {'type': 'PixelType',\n",
       "    'precision': 'int',\n",
       "    'min': -32768,\n",
       "    'max': 32767},\n",
       "   'dimensions': [9161, 9161],\n",
       "   'crs': 'EPSG:32628',\n",
       "   'crs_transform': [30, 0, 341085, 0, -30, 8808015]},\n",
       "  {'id': 'ST_TRAD',\n",
       "   'data_type': {'type': 'PixelType',\n",
       "    'precision': 'int',\n",
       "    'min': -32768,\n",
       "    'max': 32767},\n",
       "   'dimensions': [9161, 9161],\n",
       "   'crs': 'EPSG:32628',\n",
       "   'crs_transform': [30, 0, 341085, 0, -30, 8808015]},\n",
       "  {'id': 'ST_URAD',\n",
       "   'data_type': {'type': 'PixelType',\n",
       "    'precision': 'int',\n",
       "    'min': -32768,\n",
       "    'max': 32767},\n",
       "   'dimensions': [9161, 9161],\n",
       "   'crs': 'EPSG:32628',\n",
       "   'crs_transform': [30, 0, 341085, 0, -30, 8808015]},\n",
       "  {'id': 'QA_PIXEL',\n",
       "   'data_type': {'type': 'PixelType',\n",
       "    'precision': 'int',\n",
       "    'min': 0,\n",
       "    'max': 65535},\n",
       "   'dimensions': [9161, 9161],\n",
       "   'crs': 'EPSG:32628',\n",
       "   'crs_transform': [30, 0, 341085, 0, -30, 8808015]},\n",
       "  {'id': 'QA_RADSAT',\n",
       "   'data_type': {'type': 'PixelType',\n",
       "    'precision': 'int',\n",
       "    'min': 0,\n",
       "    'max': 65535},\n",
       "   'dimensions': [9161, 9161],\n",
       "   'crs': 'EPSG:32628',\n",
       "   'crs_transform': [30, 0, 341085, 0, -30, 8808015]}],\n",
       " 'id': 'LANDSAT/LC08/C02/T1_L2/LC08_001004_20140609',\n",
       " 'version': 1629837149647415,\n",
       " 'properties': {'DATA_SOURCE_ELEVATION': 'GLS2000',\n",
       "  'WRS_TYPE': 2,\n",
       "  'REFLECTANCE_ADD_BAND_1': -0.2,\n",
       "  'REFLECTANCE_ADD_BAND_2': -0.2,\n",
       "  'DATUM': 'WGS84',\n",
       "  'REFLECTANCE_ADD_BAND_3': -0.2,\n",
       "  'REFLECTANCE_ADD_BAND_4': -0.2,\n",
       "  'REFLECTANCE_ADD_BAND_5': -0.2,\n",
       "  'REFLECTANCE_ADD_BAND_6': -0.2,\n",
       "  'REFLECTANCE_ADD_BAND_7': -0.2,\n",
       "  'system:footprint': {'type': 'LinearRing',\n",
       "   'coordinates': [[-10.748145650613159, 77.97847329044309],\n",
       "    [-10.41674661414212, 78.0374212170161],\n",
       "    [-10.083010385206768, 78.09606865333609],\n",
       "    [-10.082810415857653, 78.09655889919767],\n",
       "    [-10.331571946271144, 78.15720169242425],\n",
       "    [-12.868921733255618, 78.7294469513453],\n",
       "    [-15.66946392171134, 79.27822487706739],\n",
       "    [-15.963525285878228, 79.3313032985803],\n",
       "    [-15.966181594385334, 79.33129520281486],\n",
       "    [-21.585876617102517, 78.08645936055878],\n",
       "    [-21.83888418757499, 78.02077565637953],\n",
       "    [-21.508648920183358, 77.96537126013739],\n",
       "    [-16.406833844562694, 76.98420700146296],\n",
       "    [-16.024193521190767, 76.90004601351069],\n",
       "    [-15.70627091697092, 76.97323551308642],\n",
       "    [-15.161231635385239, 77.09610210532725],\n",
       "    [-14.623988512891286, 77.21398158909658],\n",
       "    [-13.989294663138036, 77.34925365671747],\n",
       "    [-13.339979623691255, 77.48338455018072],\n",
       "    [-12.685696085613664, 77.61428433441917],\n",
       "    [-12.004267165827045, 77.74630310633523],\n",
       "    [-11.360087744970793, 77.86711877183545],\n",
       "    [-10.748145650613159, 77.97847329044309]]},\n",
       "  'REFLECTIVE_SAMPLES': 9161,\n",
       "  'GROUND_CONTROL_POINTS_VERSION': 5,\n",
       "  'SUN_AZIMUTH': -161.80056946,\n",
       "  'DATA_SOURCE_TIRS_STRAY_LIGHT_CORRECTION': 'TIRS',\n",
       "  'UTM_ZONE': 28,\n",
       "  'DATE_ACQUIRED': '2014-06-09',\n",
       "  'ELLIPSOID': 'WGS84',\n",
       "  'system:time_end': 1402322883992,\n",
       "  'DATA_SOURCE_PRESSURE': 'Calculated',\n",
       "  'LANDSAT_PRODUCT_ID': 'LC08_L2SP_001004_20140609_20200911_02_T1',\n",
       "  'STATION_ID': 'LGN',\n",
       "  'TEMPERATURE_ADD_BAND_ST_B10': 149,\n",
       "  'DATA_SOURCE_REANALYSIS': 'GEOS-5 FP-IT',\n",
       "  'REFLECTANCE_MULT_BAND_7': 2.75e-05,\n",
       "  'system:time_start': 1402322883992,\n",
       "  'REFLECTANCE_MULT_BAND_6': 2.75e-05,\n",
       "  'L1_PROCESSING_LEVEL': 'L1TP',\n",
       "  'PROCESSING_SOFTWARE_VERSION': 'LPGS_15.3.1c',\n",
       "  'L1_DATE_PRODUCT_GENERATED': '2020-09-11T12:27:37Z',\n",
       "  'ORIENTATION': 'NORTH_UP',\n",
       "  'REFLECTANCE_MULT_BAND_1': 2.75e-05,\n",
       "  'WRS_ROW': 4,\n",
       "  'REFLECTANCE_MULT_BAND_3': 2.75e-05,\n",
       "  'REFLECTANCE_MULT_BAND_2': 2.75e-05,\n",
       "  'TARGET_WRS_ROW': 4,\n",
       "  'REFLECTANCE_MULT_BAND_5': 2.75e-05,\n",
       "  'REFLECTANCE_MULT_BAND_4': 2.75e-05,\n",
       "  'THERMAL_LINES': 9161,\n",
       "  'TIRS_SSM_POSITION_STATUS': 'NOMINAL',\n",
       "  'GRID_CELL_SIZE_THERMAL': 30,\n",
       "  'IMAGE_QUALITY_TIRS': 9,\n",
       "  'TRUNCATION_OLI': 'UPPER',\n",
       "  'NADIR_OFFNADIR': 'NADIR',\n",
       "  'CLOUD_COVER': 23.83,\n",
       "  'REQUEST_ID': 'L2',\n",
       "  'EARTH_SUN_DISTANCE': 1.0151027,\n",
       "  'TIRS_SSM_MODEL': 'ACTUAL',\n",
       "  'COLLECTION_CATEGORY': 'T1',\n",
       "  'SCENE_CENTER_TIME': '14:08:03.9927820Z',\n",
       "  'GRID_CELL_SIZE_REFLECTIVE': 30,\n",
       "  'SUN_ELEVATION': 34.31007828,\n",
       "  'ALGORITHM_SOURCE_SURFACE_TEMPERATURE': 'st_1.3.0',\n",
       "  'TEMPERATURE_MAXIMUM_BAND_ST_B10': 372.999941,\n",
       "  'CLOUD_COVER_LAND': 0,\n",
       "  'GEOMETRIC_RMSE_MODEL': 8.474,\n",
       "  'ROLL_ANGLE': -0.001,\n",
       "  'COLLECTION_NUMBER': 2,\n",
       "  'DATE_PRODUCT_GENERATED': 1599829826000,\n",
       "  'L1_REQUEST_ID': 'L2',\n",
       "  'DATA_SOURCE_OZONE': 'MODIS',\n",
       "  'SATURATION_BAND_1': 'N',\n",
       "  'DATA_SOURCE_WATER_VAPOR': 'MODIS',\n",
       "  'SATURATION_BAND_2': 'N',\n",
       "  'SATURATION_BAND_3': 'N',\n",
       "  'IMAGE_QUALITY_OLI': 9,\n",
       "  'SATURATION_BAND_4': 'N',\n",
       "  'LANDSAT_SCENE_ID': 'LC80010042014160LGN01',\n",
       "  'SATURATION_BAND_5': 'N',\n",
       "  'MAP_PROJECTION': 'UTM',\n",
       "  'SATURATION_BAND_6': 'N',\n",
       "  'SENSOR_ID': 'OLI_TIRS',\n",
       "  'SATURATION_BAND_7': 'N',\n",
       "  'SATURATION_BAND_8': 'N',\n",
       "  'WRS_PATH': 1,\n",
       "  'SATURATION_BAND_9': 'N',\n",
       "  'TARGET_WRS_PATH': 1,\n",
       "  'L1_PROCESSING_SOFTWARE_VERSION': 'LPGS_15.3.1c',\n",
       "  'TEMPERATURE_MULT_BAND_ST_B10': 0.00341802,\n",
       "  'L1_LANDSAT_PRODUCT_ID': 'LC08_L1TP_001004_20140609_20200911_02_T1',\n",
       "  'PROCESSING_LEVEL': 'L2SP',\n",
       "  'ALGORITHM_SOURCE_SURFACE_REFLECTANCE': 'LaSRC_1.5.0',\n",
       "  'GROUND_CONTROL_POINTS_MODEL': 22,\n",
       "  'SPACECRAFT_ID': 'LANDSAT_8',\n",
       "  'TEMPERATURE_MINIMUM_BAND_ST_B10': 149.003418,\n",
       "  'GEOMETRIC_RMSE_MODEL_Y': 6.025,\n",
       "  'REFLECTIVE_LINES': 9161,\n",
       "  'GEOMETRIC_RMSE_MODEL_X': 5.96,\n",
       "  'THERMAL_SAMPLES': 9161,\n",
       "  'system:asset_size': 814585572,\n",
       "  'DATA_SOURCE_AIR_TEMPERATURE': 'MODIS',\n",
       "  'system:index': 'LC08_001004_20140609'}}"
      ]
     },
     "execution_count": 26,
     "metadata": {},
     "output_type": "execute_result"
    }
   ],
   "source": [
    "# Explore the metadata\n",
    "\n",
    "testImg = data.first()\n",
    "bands = testImg.bandNames()\n",
    "str(bands.getInfo())\n",
    "testImg.getInfo()"
   ]
  },
  {
   "cell_type": "code",
   "execution_count": 27,
   "id": "b43edd24-38df-4838-be8b-4fb136278d65",
   "metadata": {},
   "outputs": [],
   "source": [
    "data = data.filterBounds(roi).filter(ee.Filter.date('2021-09-01', '2021-09-30')).mean()"
   ]
  },
  {
   "cell_type": "code",
   "execution_count": 19,
   "id": "08b6d1df-8193-4257-a442-c5a0ab052a2b",
   "metadata": {},
   "outputs": [],
   "source": [
    "visParams = {'bands': ['SR_B1', 'SR_B5', 'SR_B7'],\n",
    "             'min': 1,\n",
    "             'max': 65455\n",
    "            }"
   ]
  },
  {
   "cell_type": "code",
   "execution_count": 43,
   "id": "a19e6d7e-2298-412d-a7dd-66ef025a791a",
   "metadata": {},
   "outputs": [
    {
     "data": {
      "application/vnd.jupyter.widget-view+json": {
       "model_id": "99103398c7a34e62a8b84daad5671dfa",
       "version_major": 2,
       "version_minor": 0
      },
      "text/plain": [
       "Map(center=[32.05, -104.74], controls=(WidgetControl(options=['position', 'transparent_bg'], widget=HBox(child…"
      ]
     },
     "metadata": {},
     "output_type": "display_data"
    }
   ],
   "source": [
    "map = geemap.Map(center = [center_lat, center_lon], zoom = 7)\n",
    "map.addLayer(data, visParams)\n",
    "map"
   ]
  },
  {
   "cell_type": "code",
   "execution_count": 34,
   "id": "0940260e-e64f-49af-80e1-021359dea36f",
   "metadata": {},
   "outputs": [],
   "source": [
    "nir = data.select('SR_B5')\n",
    "swir2 = data.select('SR_B7')\n",
    "\n",
    "oif = (nir.subtract(swir2)).divide((nir.add(swir2))).rename('OIF')\n",
    "\n",
    "data_oif = data.addBands(oif)"
   ]
  },
  {
   "cell_type": "code",
   "execution_count": 44,
   "id": "3aa1b689-cdb1-4bbd-9a71-9c78a71cf29f",
   "metadata": {},
   "outputs": [
    {
     "data": {
      "application/vnd.jupyter.widget-view+json": {
       "model_id": "0a28ba54815e46de9accaa4a97568d82",
       "version_major": 2,
       "version_minor": 0
      },
      "text/plain": [
       "Map(center=[32.05, -104.74], controls=(WidgetControl(options=['position', 'transparent_bg'], widget=HBox(child…"
      ]
     },
     "metadata": {},
     "output_type": "display_data"
    }
   ],
   "source": [
    "map_oif = geemap.Map(center = [center_lat, center_lon], zoom = 7)\n",
    "map_oif.addLayer(data_oif)\n",
    "map_oif"
   ]
  },
  {
   "cell_type": "code",
   "execution_count": 39,
   "id": "9845d21a-5780-4b40-8c33-de886f30d33a",
   "metadata": {},
   "outputs": [],
   "source": [
    "data_oif_mask = data_oif.mask('need conditional here')"
   ]
  },
  {
   "cell_type": "markdown",
   "id": "f11a8531-0693-4440-b028-ae96ec9c3aad",
   "metadata": {},
   "source": [
    "<a id='usecase'></a> \n",
    "### Use Case Example"
   ]
  },
  {
   "cell_type": "markdown",
   "id": "b460a55b-3a0d-4996-808d-e4f74b8c3ada",
   "metadata": {},
   "source": [
    "<a id='binder'></a> \n",
    "### Create Binder Environment"
   ]
  },
  {
   "cell_type": "markdown",
   "id": "40697ca8-9d7a-4f95-9b08-6375a09ea0a4",
   "metadata": {},
   "source": [
    "<a id='references'></a> \n",
    "### References\n",
    "\n",
    "Binte Mostafiz, R.; Noguchi, R.; Ahamed, T. Agricultural Land Suitability Assessment Using Satellite Remote Sensing-Derived Soil-Vegetation Indices. Land 2021, 10, 223. https://doi.org/10.3390/land10020223\n",
    "\n",
    "Landsat 8 data courtesy of the U.S. Geological Survey. https://developers.google.com/earth-engine/datasets/catalog/LANDSAT_LC08_C02_T1_L2#image-properties\n",
    "\n",
    "Ridwan, M. A., Radzi, N., Ahmad, W., Mustafa, I., Din, N., Jalil, Y., Isa, A., Othman A., Zaki, W. Applications of Landsat-8 Data: Survey. Internation Journal of Engineering & Techonology 2018, 11, 436-441. DOI:10.14419/ijet.v7i4.35.22858\n",
    "\n",
    "Vermote, E., Justice, C., Claverie, M., & Franch, B. (2016). Preliminary analysis of the performance of the Landsat 8/OLI land surface reflectance product. Remote Sensing of Environment, 185, 46-56.\n",
    "\n",
    "Sophora gypsophila | NatureServe Explorer. (n.d.). Retrieved November 16, 2021, from https://explorer.natureserve.org/Taxon/ELEMENT_GLOBAL.2.155365/Sophora_gypsophila\n",
    "SSM - Ch. 5. Digital Soil Mapping | NRCS Soils. (n.d.). Retrieved November 16, 2021, from https://www.nrcs.usda.gov/wps/portal/nrcs/detail/soils/ref/?cid=nrcs142p2_054255\n",
    "Texas Native Plants Database. (n.d.). Retrieved November 16, 2021, from https://aggie-horticulture.tamu.edu/ornamentals/nativeshrubs/sophoragypsophila.htm\n",
    "\n",
    "Boettinger, J., Ramsey, R., Bodily, J., Cole, N., Kienast-brown, S., Nield, S., Saunders, A., & Stum, A. (2008). Landsat Spectral Data for Digital Soil Mapping. Digital Soil Mapping with Limited Data. https://doi.org/10.1007/978-1-4020-8592-5_16\n",
    "Browning, D. M., & Duniway, M. C. (2011). Digital Soil Mapping in the Absence of Field Training Data: A Case Study Using Terrain Attributes and Semiautomated Soil Signature Derivation to Distinguish Ecological Potential. Applied and Environmental Soil Science, 2011, e421904. https://doi.org/10.1155/2011/421904\n",
    "Nield, S. J., Boettinger, J. L., & Ramsey, R. D. (2007). Digitally Mapping Gypsic and Natric Soil Areas Using Landsat ETM Data. Soil Science Society of America Journal, 71(1), 245–252. https://doi.org/10.2136/sssaj2006-0049\n"
   ]
  }
 ],
 "metadata": {
  "kernelspec": {
   "display_name": "Python 3 (ipykernel)",
   "language": "python",
   "name": "python3"
  },
  "language_info": {
   "codemirror_mode": {
    "name": "ipython",
    "version": 3
   },
   "file_extension": ".py",
   "mimetype": "text/x-python",
   "name": "python",
   "nbconvert_exporter": "python",
   "pygments_lexer": "ipython3",
   "version": "3.9.7"
  }
 },
 "nbformat": 4,
 "nbformat_minor": 5
}
