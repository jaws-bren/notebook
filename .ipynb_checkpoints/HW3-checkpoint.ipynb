{
 "cells": [
  {
   "cell_type": "markdown",
   "id": "63b97f48-c12d-4f2d-a1c6-e993371eae5e",
   "metadata": {},
   "source": [
    "# Landsat 8: \n",
    "## EDS 220, Fall 2021\n",
    "Friday, November 19"
   ]
  },
  {
   "cell_type": "markdown",
   "id": "73253f48-a0a1-400a-9680-b013de5b8be4",
   "metadata": {},
   "source": [
    "## Authors\n",
    "\n",
    "- Julia Parish, UC Santa Barbara (jparish@bren.ucsb.edu)\n",
    "- Alex Vand, UC Santa Barbara (asy@bren.ucsb.edu)\n",
    "- Wylie Hampson, UC Santa Barbara (whampson@bren.ucsb.edu)\n",
    "- Shale Hunter, UC Santa Barbara (shale@bren.ucsb.edu)"
   ]
  },
  {
   "cell_type": "markdown",
   "id": "51e07e4b-59dd-4f79-a599-296f2ba7c09a",
   "metadata": {},
   "source": [
    "## Table of Contents\n",
    "\n",
    "[1. Purpose](#purpose)\n",
    "\n",
    "[2. Dataset Description](#overview)\n",
    "\n",
    "[3. Data I/O](#io)\n",
    "\n",
    "[4. Metadata Display and Basic Visualization](#display)\n",
    "\n",
    "[5. Use Case Examples](#usecases)\n",
    "\n",
    "[6. Create Binder Environment](#binder)\n",
    "\n",
    "[7. References](#references)"
   ]
  },
  {
   "cell_type": "markdown",
   "id": "e7721146-dbd0-4955-ae95-313272cea288",
   "metadata": {
    "tags": []
   },
   "source": [
    "<a id='purpose'></a> \n",
    "### Notebook Purpose\n",
    "\n",
    "This notebook was created to provide an introduction to using satellite data from the <a href=\"https://developers.google.com/earth-engine/datasets/catalog/LANDSAT_LC08_C02_T1_L2#description/\" target=\"_blank\">USGS Landsat 8 Level 2, Collection 2, Tier 1</a> sourced from Google Earth Engine for analysis to identify soil composition.\n"
   ]
  },
  {
   "cell_type": "markdown",
   "id": "cbfff42f-a933-478c-8330-0104769db1f1",
   "metadata": {},
   "source": [
    "<a id='overview'></a> \n",
    "### Dataset Description\n",
    "\n",
    "The dataset JAWS is exploring is <a href=\"https://developers.google.com/earth-engine/datasets/catalog/LANDSAT_LC08_C02_T1_L2#description/\" target=\"_blank\">USGS Landsat 8 Level 2, Collection 2, Tier 1</a> sourced from Google Earth Engine. The dataset is a joint program of USGS and NASA. Landsat8 is a joint effort between USGS and NASA, with data collected from 2013-04-11 to the present. This particular dataset is the atmospherically corrected surface reflectance and land surface temperature from the Landsat 8 OLI/TIRS sensors. The satellite orbits the earth in 99 minutes, covering individual overlapping swaths, or “scenes”, of the surface. Images are collected over 8-16 days and then compiled to create comprehensive images for the entire earth. Landsat data is represented in WGS84 and the images contain 5 visible and near-infrared bands, 2 short-wave infrared bands, and 1 thermal infrared.\n",
    "\n",
    "Images are provided as TIFs, which can support the wide variety of image types already used for geographic imagery. Metadata files are available for download in Material Library File (MTL) and Extensible Markup Language (XML) formats.\n",
    "\n",
    "\n",
    "The data retrieval service is Google Earth Engine <a href=\"https://developers.google.com/earth-engine/datasets/catalog/LANDSAT_LC08_C02_T1_L2#description/\" target=\"_blank\">USGS Landsat 8 Level 2, Collection 2, Tier 1</a>.\n",
    "\n",
    "There are a few known issues with the Landsat data quality that might be expected to impact the results, but overall it is considered highly accurate and reliable data. The remote sensing equipment on Landsat 8 is the Operational Land Imager (OLI) which is a multichannel scanning radiometer,and a two-channel infared radiometer, Thermal Infrared Sensor (TIRS).<br>\n",
    "There are some known issues with this dataset, but many of them don’t concern most people that may be using this data. One of the most concerning issues is with cloud cover and cloud shadows. The data from this dataset can be affected if there is heavy cloud coverage. The images from the dataset have a 30 meter resolution which will allow us to get high definition images for the area of land that we will be looking at. If you were to look at a small area of land, say a few square kilometers, this data set may not be ideal because the 30 meter resolution won’t allow you to see much detail, but for this use case it works well."
   ]
  },
  {
   "cell_type": "markdown",
   "id": "bbd9d12b-13e5-47ac-8100-af02ac0c1dfb",
   "metadata": {},
   "source": [
    "<a id='io'></a> \n",
    "### Dataset Input/Output \n",
    "Setup for our analysis is quite simple using the Landsat API"
   ]
  },
  {
   "cell_type": "markdown",
   "id": "c73ad1ad-5ccc-4a77-8f27-b77d0b2ead44",
   "metadata": {},
   "source": [
    "#### 1) Import necessary packages"
   ]
  },
  {
   "cell_type": "code",
   "execution_count": 1,
   "id": "e385630f-a73f-47b7-9481-bf5502720493",
   "metadata": {},
   "outputs": [],
   "source": [
    "import ee\n",
    "import geemap\n",
    "import pandas as pd\n",
    "import matplotlib.pyplot as plt\n",
    "import numpy as np"
   ]
  },
  {
   "cell_type": "code",
   "execution_count": 2,
   "id": "4c6f5e4c-79d9-4798-bab2-e0ff251d6051",
   "metadata": {},
   "outputs": [],
   "source": [
    "ee.Authenticate()\n",
    "ee.Initialize()"
   ]
  },
  {
   "cell_type": "markdown",
   "id": "fba5afc8-5aa2-4819-9350-f4197fba1244",
   "metadata": {},
   "source": [
    "#### 2) Set parameters that will be needed for analysis in subsequent portions of the notebook.\n",
    "\n",
    "Here, we create a region of interest with a 50km radius around the coordinates (32.05, -104.74). This region of interest was defined (Stafford) "
   ]
  },
  {
   "cell_type": "code",
   "execution_count": 3,
   "id": "a1c2f4ee-ecba-4ff3-9ed6-f290b409cc30",
   "metadata": {
    "tags": []
   },
   "outputs": [],
   "source": [
    "# create a centroid over region of interest, Guadalupe Mountains of New Mexico and Texas\n",
    "\n",
    "center_lat = 32.05\n",
    "center_lon = -104.74\n",
    "center_point = ee.Geometry.Point(center_lon, center_lat)\n",
    "roi = center_point.buffer(50000)"
   ]
  },
  {
   "cell_type": "markdown",
   "id": "285eda17-4440-4adc-9f15-eed65895eee9",
   "metadata": {
    "tags": []
   },
   "source": [
    "#### 3) Read in the data from the Landsat API\n",
    "    Note the last part of the identifier indicates that we are using Tier 1 data from NASA's Collection 2 of Landsat data."
   ]
  },
  {
   "cell_type": "code",
   "execution_count": 4,
   "id": "a2d56586-439d-41db-a4ac-a1c78015c7e1",
   "metadata": {},
   "outputs": [],
   "source": [
    "# read in Landsat 8 data from Google Earth Engine\n",
    "\n",
    "data = ee.ImageCollection(\"LANDSAT/LC08/C02/T1_L2\")"
   ]
  },
  {
   "cell_type": "markdown",
   "id": "41944590-a524-47e9-afbd-3d4d32306c10",
   "metadata": {},
   "source": [
    "<a id='display'></a> \n",
    "### Metadata Display and Basic Visualization\n",
    "\n",
    "To get an idea of what the data comprises, the `propertyNames()` and `getInfo()` functions can be used to display  Landsat 8 metadata. For this project's purposes, available bands are the most important **(*WHAT DOES THIS MEAN EXACTLY*)**. A reminder of what wavelengths are recorded in which band can be found [here](https://www.usgs.gov/media/images/landsat-8-band-designations).\n",
    "\n",
    "An important thing to keep track of with Landsat data is the dates. As satellites cycle through (i.e. break and are replaced), Landsat data must be accessed through different APIs. Landsat 8 data is only availble from February 2013, so if you were interested in images from before then you would have to access Landsat 7 data, which runs back to April 1999. Landsat data dates back to 1972, when Landsat 1 was launched on July 23, 1972."
   ]
  },
  {
   "cell_type": "markdown",
   "id": "0be38262-44a9-4fc9-89f0-b6171139e24f",
   "metadata": {},
   "source": [
    "#### 1) Display metadata information"
   ]
  },
  {
   "cell_type": "markdown",
   "id": "164f2a1a-a3cf-4f5c-90b9-8c879fee680a",
   "metadata": {},
   "source": [
    "Call ee.Feature.propertyNames function to return the names of the metadata properties"
   ]
  },
  {
   "cell_type": "code",
   "execution_count": 5,
   "id": "c18e8bc7-db1c-454d-aea9-61157de8b2ff",
   "metadata": {
    "collapsed": true,
    "jupyter": {
     "outputs_hidden": true
    },
    "tags": []
   },
   "outputs": [
    {
     "name": "stdout",
     "output_type": "stream",
     "text": [
      "Metadata properties: ['DATA_SOURCE_ELEVATION', 'WRS_TYPE', 'system:id', 'REFLECTANCE_ADD_BAND_1', 'REFLECTANCE_ADD_BAND_2', 'DATUM', 'REFLECTANCE_ADD_BAND_3', 'REFLECTANCE_ADD_BAND_4', 'REFLECTANCE_ADD_BAND_5', 'REFLECTANCE_ADD_BAND_6', 'REFLECTANCE_ADD_BAND_7', 'system:footprint', 'REFLECTIVE_SAMPLES', 'system:version', 'GROUND_CONTROL_POINTS_VERSION', 'SUN_AZIMUTH', 'DATA_SOURCE_TIRS_STRAY_LIGHT_CORRECTION', 'UTM_ZONE', 'DATE_ACQUIRED', 'ELLIPSOID', 'system:time_end', 'DATA_SOURCE_PRESSURE', 'LANDSAT_PRODUCT_ID', 'STATION_ID', 'TEMPERATURE_ADD_BAND_ST_B10', 'DATA_SOURCE_REANALYSIS', 'REFLECTANCE_MULT_BAND_7', 'system:time_start', 'REFLECTANCE_MULT_BAND_6', 'L1_PROCESSING_LEVEL', 'PROCESSING_SOFTWARE_VERSION', 'L1_DATE_PRODUCT_GENERATED', 'ORIENTATION', 'REFLECTANCE_MULT_BAND_1', 'WRS_ROW', 'REFLECTANCE_MULT_BAND_3', 'REFLECTANCE_MULT_BAND_2', 'TARGET_WRS_ROW', 'REFLECTANCE_MULT_BAND_5', 'REFLECTANCE_MULT_BAND_4', 'THERMAL_LINES', 'TIRS_SSM_POSITION_STATUS', 'GRID_CELL_SIZE_THERMAL', 'IMAGE_QUALITY_TIRS', 'TRUNCATION_OLI', 'NADIR_OFFNADIR', 'CLOUD_COVER', 'REQUEST_ID', 'EARTH_SUN_DISTANCE', 'TIRS_SSM_MODEL', 'COLLECTION_CATEGORY', 'SCENE_CENTER_TIME', 'GRID_CELL_SIZE_REFLECTIVE', 'SUN_ELEVATION', 'ALGORITHM_SOURCE_SURFACE_TEMPERATURE', 'TEMPERATURE_MAXIMUM_BAND_ST_B10', 'CLOUD_COVER_LAND', 'GEOMETRIC_RMSE_MODEL', 'ROLL_ANGLE', 'COLLECTION_NUMBER', 'DATE_PRODUCT_GENERATED', 'L1_REQUEST_ID', 'DATA_SOURCE_OZONE', 'SATURATION_BAND_1', 'DATA_SOURCE_WATER_VAPOR', 'SATURATION_BAND_2', 'SATURATION_BAND_3', 'IMAGE_QUALITY_OLI', 'SATURATION_BAND_4', 'LANDSAT_SCENE_ID', 'SATURATION_BAND_5', 'MAP_PROJECTION', 'SATURATION_BAND_6', 'SENSOR_ID', 'SATURATION_BAND_7', 'SATURATION_BAND_8', 'WRS_PATH', 'SATURATION_BAND_9', 'TARGET_WRS_PATH', 'L1_PROCESSING_SOFTWARE_VERSION', 'TEMPERATURE_MULT_BAND_ST_B10', 'L1_LANDSAT_PRODUCT_ID', 'PROCESSING_LEVEL', 'ALGORITHM_SOURCE_SURFACE_REFLECTANCE', 'GROUND_CONTROL_POINTS_MODEL', 'SPACECRAFT_ID', 'TEMPERATURE_MINIMUM_BAND_ST_B10', 'GEOMETRIC_RMSE_MODEL_Y', 'REFLECTIVE_LINES', 'GEOMETRIC_RMSE_MODEL_X', 'THERMAL_SAMPLES', 'system:asset_size', 'DATA_SOURCE_AIR_TEMPERATURE', 'system:index', 'system:bands', 'system:band_names']\n"
     ]
    }
   ],
   "source": [
    "# Explore the metadata - metadata display: variables\n",
    "testImg = data.first()\n",
    "properties = testImg.propertyNames()\n",
    "print('Metadata properties:',\n",
    "      properties.getInfo())  # ee.List of metadata properties"
   ]
  },
  {
   "cell_type": "markdown",
   "id": "2d66f79b-f29a-44ad-aa8f-17909a32491d",
   "metadata": {},
   "source": [
    "Call ee.Feature.getinfo() imperative function to return metadata information about a feature within the data via an AJAX call. An AJAX call is one method to load personalized content separately from the rest of the HTML document"
   ]
  },
  {
   "cell_type": "code",
   "execution_count": 6,
   "id": "983f57e3-824e-46e8-9cb9-7df74febf9fa",
   "metadata": {
    "collapsed": true,
    "jupyter": {
     "outputs_hidden": true
    },
    "tags": []
   },
   "outputs": [
    {
     "data": {
      "text/plain": [
       "{'type': 'Image',\n",
       " 'bands': [{'id': 'SR_B1',\n",
       "   'data_type': {'type': 'PixelType',\n",
       "    'precision': 'int',\n",
       "    'min': 0,\n",
       "    'max': 65535},\n",
       "   'dimensions': [9161, 9161],\n",
       "   'crs': 'EPSG:32628',\n",
       "   'crs_transform': [30, 0, 341085, 0, -30, 8808015]},\n",
       "  {'id': 'SR_B2',\n",
       "   'data_type': {'type': 'PixelType',\n",
       "    'precision': 'int',\n",
       "    'min': 0,\n",
       "    'max': 65535},\n",
       "   'dimensions': [9161, 9161],\n",
       "   'crs': 'EPSG:32628',\n",
       "   'crs_transform': [30, 0, 341085, 0, -30, 8808015]},\n",
       "  {'id': 'SR_B3',\n",
       "   'data_type': {'type': 'PixelType',\n",
       "    'precision': 'int',\n",
       "    'min': 0,\n",
       "    'max': 65535},\n",
       "   'dimensions': [9161, 9161],\n",
       "   'crs': 'EPSG:32628',\n",
       "   'crs_transform': [30, 0, 341085, 0, -30, 8808015]},\n",
       "  {'id': 'SR_B4',\n",
       "   'data_type': {'type': 'PixelType',\n",
       "    'precision': 'int',\n",
       "    'min': 0,\n",
       "    'max': 65535},\n",
       "   'dimensions': [9161, 9161],\n",
       "   'crs': 'EPSG:32628',\n",
       "   'crs_transform': [30, 0, 341085, 0, -30, 8808015]},\n",
       "  {'id': 'SR_B5',\n",
       "   'data_type': {'type': 'PixelType',\n",
       "    'precision': 'int',\n",
       "    'min': 0,\n",
       "    'max': 65535},\n",
       "   'dimensions': [9161, 9161],\n",
       "   'crs': 'EPSG:32628',\n",
       "   'crs_transform': [30, 0, 341085, 0, -30, 8808015]},\n",
       "  {'id': 'SR_B6',\n",
       "   'data_type': {'type': 'PixelType',\n",
       "    'precision': 'int',\n",
       "    'min': 0,\n",
       "    'max': 65535},\n",
       "   'dimensions': [9161, 9161],\n",
       "   'crs': 'EPSG:32628',\n",
       "   'crs_transform': [30, 0, 341085, 0, -30, 8808015]},\n",
       "  {'id': 'SR_B7',\n",
       "   'data_type': {'type': 'PixelType',\n",
       "    'precision': 'int',\n",
       "    'min': 0,\n",
       "    'max': 65535},\n",
       "   'dimensions': [9161, 9161],\n",
       "   'crs': 'EPSG:32628',\n",
       "   'crs_transform': [30, 0, 341085, 0, -30, 8808015]},\n",
       "  {'id': 'SR_QA_AEROSOL',\n",
       "   'data_type': {'type': 'PixelType',\n",
       "    'precision': 'int',\n",
       "    'min': 0,\n",
       "    'max': 255},\n",
       "   'dimensions': [9161, 9161],\n",
       "   'crs': 'EPSG:32628',\n",
       "   'crs_transform': [30, 0, 341085, 0, -30, 8808015]},\n",
       "  {'id': 'ST_B10',\n",
       "   'data_type': {'type': 'PixelType',\n",
       "    'precision': 'int',\n",
       "    'min': 0,\n",
       "    'max': 65535},\n",
       "   'dimensions': [9161, 9161],\n",
       "   'crs': 'EPSG:32628',\n",
       "   'crs_transform': [30, 0, 341085, 0, -30, 8808015]},\n",
       "  {'id': 'ST_ATRAN',\n",
       "   'data_type': {'type': 'PixelType',\n",
       "    'precision': 'int',\n",
       "    'min': -32768,\n",
       "    'max': 32767},\n",
       "   'dimensions': [9161, 9161],\n",
       "   'crs': 'EPSG:32628',\n",
       "   'crs_transform': [30, 0, 341085, 0, -30, 8808015]},\n",
       "  {'id': 'ST_CDIST',\n",
       "   'data_type': {'type': 'PixelType',\n",
       "    'precision': 'int',\n",
       "    'min': -32768,\n",
       "    'max': 32767},\n",
       "   'dimensions': [9161, 9161],\n",
       "   'crs': 'EPSG:32628',\n",
       "   'crs_transform': [30, 0, 341085, 0, -30, 8808015]},\n",
       "  {'id': 'ST_DRAD',\n",
       "   'data_type': {'type': 'PixelType',\n",
       "    'precision': 'int',\n",
       "    'min': -32768,\n",
       "    'max': 32767},\n",
       "   'dimensions': [9161, 9161],\n",
       "   'crs': 'EPSG:32628',\n",
       "   'crs_transform': [30, 0, 341085, 0, -30, 8808015]},\n",
       "  {'id': 'ST_EMIS',\n",
       "   'data_type': {'type': 'PixelType',\n",
       "    'precision': 'int',\n",
       "    'min': -32768,\n",
       "    'max': 32767},\n",
       "   'dimensions': [9161, 9161],\n",
       "   'crs': 'EPSG:32628',\n",
       "   'crs_transform': [30, 0, 341085, 0, -30, 8808015]},\n",
       "  {'id': 'ST_EMSD',\n",
       "   'data_type': {'type': 'PixelType',\n",
       "    'precision': 'int',\n",
       "    'min': -32768,\n",
       "    'max': 32767},\n",
       "   'dimensions': [9161, 9161],\n",
       "   'crs': 'EPSG:32628',\n",
       "   'crs_transform': [30, 0, 341085, 0, -30, 8808015]},\n",
       "  {'id': 'ST_QA',\n",
       "   'data_type': {'type': 'PixelType',\n",
       "    'precision': 'int',\n",
       "    'min': -32768,\n",
       "    'max': 32767},\n",
       "   'dimensions': [9161, 9161],\n",
       "   'crs': 'EPSG:32628',\n",
       "   'crs_transform': [30, 0, 341085, 0, -30, 8808015]},\n",
       "  {'id': 'ST_TRAD',\n",
       "   'data_type': {'type': 'PixelType',\n",
       "    'precision': 'int',\n",
       "    'min': -32768,\n",
       "    'max': 32767},\n",
       "   'dimensions': [9161, 9161],\n",
       "   'crs': 'EPSG:32628',\n",
       "   'crs_transform': [30, 0, 341085, 0, -30, 8808015]},\n",
       "  {'id': 'ST_URAD',\n",
       "   'data_type': {'type': 'PixelType',\n",
       "    'precision': 'int',\n",
       "    'min': -32768,\n",
       "    'max': 32767},\n",
       "   'dimensions': [9161, 9161],\n",
       "   'crs': 'EPSG:32628',\n",
       "   'crs_transform': [30, 0, 341085, 0, -30, 8808015]},\n",
       "  {'id': 'QA_PIXEL',\n",
       "   'data_type': {'type': 'PixelType',\n",
       "    'precision': 'int',\n",
       "    'min': 0,\n",
       "    'max': 65535},\n",
       "   'dimensions': [9161, 9161],\n",
       "   'crs': 'EPSG:32628',\n",
       "   'crs_transform': [30, 0, 341085, 0, -30, 8808015]},\n",
       "  {'id': 'QA_RADSAT',\n",
       "   'data_type': {'type': 'PixelType',\n",
       "    'precision': 'int',\n",
       "    'min': 0,\n",
       "    'max': 65535},\n",
       "   'dimensions': [9161, 9161],\n",
       "   'crs': 'EPSG:32628',\n",
       "   'crs_transform': [30, 0, 341085, 0, -30, 8808015]}],\n",
       " 'id': 'LANDSAT/LC08/C02/T1_L2/LC08_001004_20140609',\n",
       " 'version': 1629837149647415,\n",
       " 'properties': {'DATA_SOURCE_ELEVATION': 'GLS2000',\n",
       "  'WRS_TYPE': 2,\n",
       "  'REFLECTANCE_ADD_BAND_1': -0.2,\n",
       "  'REFLECTANCE_ADD_BAND_2': -0.2,\n",
       "  'DATUM': 'WGS84',\n",
       "  'REFLECTANCE_ADD_BAND_3': -0.2,\n",
       "  'REFLECTANCE_ADD_BAND_4': -0.2,\n",
       "  'REFLECTANCE_ADD_BAND_5': -0.2,\n",
       "  'REFLECTANCE_ADD_BAND_6': -0.2,\n",
       "  'REFLECTANCE_ADD_BAND_7': -0.2,\n",
       "  'system:footprint': {'type': 'LinearRing',\n",
       "   'coordinates': [[-10.748145650613159, 77.97847329044309],\n",
       "    [-10.41674661414212, 78.0374212170161],\n",
       "    [-10.083010385206768, 78.09606865333609],\n",
       "    [-10.082810415857653, 78.09655889919767],\n",
       "    [-10.331571946271144, 78.15720169242425],\n",
       "    [-12.868921733255618, 78.7294469513453],\n",
       "    [-15.66946392171134, 79.27822487706739],\n",
       "    [-15.963525285878228, 79.3313032985803],\n",
       "    [-15.966181594385334, 79.33129520281486],\n",
       "    [-21.585876617102517, 78.08645936055878],\n",
       "    [-21.83888418757499, 78.02077565637953],\n",
       "    [-21.508648920183358, 77.96537126013739],\n",
       "    [-16.406833844562694, 76.98420700146296],\n",
       "    [-16.024193521190767, 76.90004601351069],\n",
       "    [-15.70627091697092, 76.97323551308642],\n",
       "    [-15.161231635385239, 77.09610210532725],\n",
       "    [-14.623988512891286, 77.21398158909658],\n",
       "    [-13.989294663138036, 77.34925365671747],\n",
       "    [-13.339979623691255, 77.48338455018072],\n",
       "    [-12.685696085613664, 77.61428433441917],\n",
       "    [-12.004267165827045, 77.74630310633523],\n",
       "    [-11.360087744970793, 77.86711877183545],\n",
       "    [-10.748145650613159, 77.97847329044309]]},\n",
       "  'REFLECTIVE_SAMPLES': 9161,\n",
       "  'GROUND_CONTROL_POINTS_VERSION': 5,\n",
       "  'SUN_AZIMUTH': -161.80056946,\n",
       "  'DATA_SOURCE_TIRS_STRAY_LIGHT_CORRECTION': 'TIRS',\n",
       "  'UTM_ZONE': 28,\n",
       "  'DATE_ACQUIRED': '2014-06-09',\n",
       "  'ELLIPSOID': 'WGS84',\n",
       "  'system:time_end': 1402322883992,\n",
       "  'DATA_SOURCE_PRESSURE': 'Calculated',\n",
       "  'LANDSAT_PRODUCT_ID': 'LC08_L2SP_001004_20140609_20200911_02_T1',\n",
       "  'STATION_ID': 'LGN',\n",
       "  'TEMPERATURE_ADD_BAND_ST_B10': 149,\n",
       "  'DATA_SOURCE_REANALYSIS': 'GEOS-5 FP-IT',\n",
       "  'REFLECTANCE_MULT_BAND_7': 2.75e-05,\n",
       "  'system:time_start': 1402322883992,\n",
       "  'REFLECTANCE_MULT_BAND_6': 2.75e-05,\n",
       "  'L1_PROCESSING_LEVEL': 'L1TP',\n",
       "  'PROCESSING_SOFTWARE_VERSION': 'LPGS_15.3.1c',\n",
       "  'L1_DATE_PRODUCT_GENERATED': '2020-09-11T12:27:37Z',\n",
       "  'ORIENTATION': 'NORTH_UP',\n",
       "  'REFLECTANCE_MULT_BAND_1': 2.75e-05,\n",
       "  'WRS_ROW': 4,\n",
       "  'REFLECTANCE_MULT_BAND_3': 2.75e-05,\n",
       "  'REFLECTANCE_MULT_BAND_2': 2.75e-05,\n",
       "  'TARGET_WRS_ROW': 4,\n",
       "  'REFLECTANCE_MULT_BAND_5': 2.75e-05,\n",
       "  'REFLECTANCE_MULT_BAND_4': 2.75e-05,\n",
       "  'THERMAL_LINES': 9161,\n",
       "  'TIRS_SSM_POSITION_STATUS': 'NOMINAL',\n",
       "  'GRID_CELL_SIZE_THERMAL': 30,\n",
       "  'IMAGE_QUALITY_TIRS': 9,\n",
       "  'TRUNCATION_OLI': 'UPPER',\n",
       "  'NADIR_OFFNADIR': 'NADIR',\n",
       "  'CLOUD_COVER': 23.83,\n",
       "  'REQUEST_ID': 'L2',\n",
       "  'EARTH_SUN_DISTANCE': 1.0151027,\n",
       "  'TIRS_SSM_MODEL': 'ACTUAL',\n",
       "  'COLLECTION_CATEGORY': 'T1',\n",
       "  'SCENE_CENTER_TIME': '14:08:03.9927820Z',\n",
       "  'GRID_CELL_SIZE_REFLECTIVE': 30,\n",
       "  'SUN_ELEVATION': 34.31007828,\n",
       "  'ALGORITHM_SOURCE_SURFACE_TEMPERATURE': 'st_1.3.0',\n",
       "  'TEMPERATURE_MAXIMUM_BAND_ST_B10': 372.999941,\n",
       "  'CLOUD_COVER_LAND': 0,\n",
       "  'GEOMETRIC_RMSE_MODEL': 8.474,\n",
       "  'ROLL_ANGLE': -0.001,\n",
       "  'COLLECTION_NUMBER': 2,\n",
       "  'DATE_PRODUCT_GENERATED': 1599829826000,\n",
       "  'L1_REQUEST_ID': 'L2',\n",
       "  'DATA_SOURCE_OZONE': 'MODIS',\n",
       "  'SATURATION_BAND_1': 'N',\n",
       "  'DATA_SOURCE_WATER_VAPOR': 'MODIS',\n",
       "  'SATURATION_BAND_2': 'N',\n",
       "  'SATURATION_BAND_3': 'N',\n",
       "  'IMAGE_QUALITY_OLI': 9,\n",
       "  'SATURATION_BAND_4': 'N',\n",
       "  'LANDSAT_SCENE_ID': 'LC80010042014160LGN01',\n",
       "  'SATURATION_BAND_5': 'N',\n",
       "  'MAP_PROJECTION': 'UTM',\n",
       "  'SATURATION_BAND_6': 'N',\n",
       "  'SENSOR_ID': 'OLI_TIRS',\n",
       "  'SATURATION_BAND_7': 'N',\n",
       "  'SATURATION_BAND_8': 'N',\n",
       "  'WRS_PATH': 1,\n",
       "  'SATURATION_BAND_9': 'N',\n",
       "  'TARGET_WRS_PATH': 1,\n",
       "  'L1_PROCESSING_SOFTWARE_VERSION': 'LPGS_15.3.1c',\n",
       "  'TEMPERATURE_MULT_BAND_ST_B10': 0.00341802,\n",
       "  'L1_LANDSAT_PRODUCT_ID': 'LC08_L1TP_001004_20140609_20200911_02_T1',\n",
       "  'PROCESSING_LEVEL': 'L2SP',\n",
       "  'ALGORITHM_SOURCE_SURFACE_REFLECTANCE': 'LaSRC_1.5.0',\n",
       "  'GROUND_CONTROL_POINTS_MODEL': 22,\n",
       "  'SPACECRAFT_ID': 'LANDSAT_8',\n",
       "  'TEMPERATURE_MINIMUM_BAND_ST_B10': 149.003418,\n",
       "  'GEOMETRIC_RMSE_MODEL_Y': 6.025,\n",
       "  'REFLECTIVE_LINES': 9161,\n",
       "  'GEOMETRIC_RMSE_MODEL_X': 5.96,\n",
       "  'THERMAL_SAMPLES': 9161,\n",
       "  'system:asset_size': 814585572,\n",
       "  'DATA_SOURCE_AIR_TEMPERATURE': 'MODIS',\n",
       "  'system:index': 'LC08_001004_20140609'}}"
      ]
     },
     "execution_count": 6,
     "metadata": {},
     "output_type": "execute_result"
    }
   ],
   "source": [
    "# Explore the metadata - metadata display: coordinate information, parameters, information on missing data\n",
    "\n",
    "bands = testImg.bandNames()\n",
    "str(bands.getInfo())\n",
    "testImg.getInfo()"
   ]
  },
  {
   "cell_type": "markdown",
   "id": "f15b9b1e-8ceb-4628-b2ea-b625cb6cce17",
   "metadata": {},
   "source": [
    "#### 2) Metadata property **(parameter???)** definitions"
   ]
  },
  {
   "cell_type": "markdown",
   "id": "323763d0-4f54-4f3a-89aa-e64f9b3ea9c3",
   "metadata": {
    "tags": []
   },
   "source": [
    "\n",
    "* **'CLOUD_COVER'**: Percentage cloud cover (0-100), -1 = not calculated.\n",
    "* 'CLOUD_COVER_LAND': Percentage cloud cover over land (0-100), -1 = not calculated.\n",
    "* 'DATA_SOURCE_ELEVATION': Elevation data source.\n",
    "* 'DATA_SOURCE_WATER_VAPOR': Water vapor data source.\n",
    "* **'EARTH_SUN_DISTANCE'**: Earth-Sun distance (AU) One astronomical unit (AU) is about 93 million miles (150 million kilometers)\n",
    "* **'IMAGE_QUALITY_OLI'**: Image quality of the OLI bands. 1 = worst, 9 = best, 0 = quality not calculated. For Landsat 8, this parameter is adjusted downward for scenes collected using the lower 12 bits from the OLI sensor (TRUNCATION_OLI = \"LOWER\").\n",
    "* **'IMAGE_QUALITY_TIRS'**: Image quality of the TIRS bands. 1 = worst, 9 = best, 0 = quality not calculated. It is also adjusted downward for scenes processed with \"SWITCHED\" for the TIRS_SSM_POSITION_STATUS value.\n",
    "* 'SENSOR_ID': Name of the sensor.\n",
    "* 'SPACECRAFT_ID': Name of the spacecraft.\n",
    "* 'SUN_ELEVATION': Sun elevation angle in degrees for the image center location at the image center acquisition time. A positive value indicates a daytime scene. A negative value indicates a nighttime scene. Note: For reflectance calculation, the sun zenith angle is needed, which is 90 - sun elevation angle.\n",
    "* **'SUN_AZIMUTH'**: Sun azimuth angle in degrees for the image center location at the image center acquisition time. A positive value indicates angles to the east or clockwise from the north. A negative value indicates angles to the west or counterclockwise from the north.\n",
    "* **'WRS_PATH'**: The Worldwide Reference System (WRS) is a global notation system for Landsat data. It is used to identify the path and row of each Landsat image. The path is the descending orbit of the satellite. Each path is segmented into 119 rows, from north to south. \n"
   ]
  },
  {
   "cell_type": "markdown",
   "id": "0352307b-c376-4b68-9bd8-ca22ee6eaef5",
   "metadata": {},
   "source": [
    "### 3) Simple real-color Landsat visualization"
   ]
  },
  {
   "cell_type": "markdown",
   "id": "b00d38e3-f1f8-40a6-a08d-eb3252ca23f7",
   "metadata": {},
   "source": [
    "To take a look at what the data itself looks like, we first need to select a subset of the data that will have the least interference from cloud cover."
   ]
  },
  {
   "cell_type": "code",
   "execution_count": 7,
   "id": "58fd828d-767b-4b8c-9d29-482ded3ad50c",
   "metadata": {},
   "outputs": [],
   "source": [
    "# cloud filter\n",
    "data = data.filter('CLOUD_COVER < 10')"
   ]
  },
  {
   "cell_type": "markdown",
   "id": "6fe9cd7b-0cf4-43e9-8c8e-9601ef1b1775",
   "metadata": {},
   "source": [
    "This subset can be further reduced by selecting a particular timeframe and taking the average of all images in the remaining image collection to leave us with one idealized image to perform our analysis on.\n",
    "\n",
    "We chose the fall of 2021, as fall is known to be a particularly sunny an clear time of year. However, there are varied opinions on the best time of year to use. For example, [Browning & Duniway](https://doi.org/10.1155/2011/421904) chose to use data from February in a similar study in the same part of southern New Mexico because of reduced vegatation cover during winter months (the importance of this will become clear later!)"
   ]
  },
  {
   "cell_type": "code",
   "execution_count": 8,
   "id": "bf00cf9e-b54b-4289-aad9-f3ccfd01ffcb",
   "metadata": {},
   "outputs": [],
   "source": [
    "# Average the cloud filter into a single image within a specified date range\n",
    "data_mean = data.filterBounds(roi).filter(ee.Filter.date('2021-07-01', '2021-10-30')).mean() "
   ]
  },
  {
   "cell_type": "code",
   "execution_count": 9,
   "id": "08b6d1df-8193-4257-a442-c5a0ab052a2b",
   "metadata": {},
   "outputs": [],
   "source": [
    "visParams = {'bands': ['SR_B4', 'SR_B3', 'SR_B2'],\n",
    "             'min': 1,\n",
    "             'max': 65455\n",
    "           }"
   ]
  },
  {
   "cell_type": "code",
   "execution_count": 10,
   "id": "a19e6d7e-2298-412d-a7dd-66ef025a791a",
   "metadata": {
    "tags": []
   },
   "outputs": [
    {
     "data": {
      "application/vnd.jupyter.widget-view+json": {
       "model_id": "a0ba00d8078d4eb2a386ba6486a7583d",
       "version_major": 2,
       "version_minor": 0
      },
      "text/plain": [
       "Map(center=[32.05, -104.74], controls=(WidgetControl(options=['position', 'transparent_bg'], widget=HBox(child…"
      ]
     },
     "metadata": {},
     "output_type": "display_data"
    }
   ],
   "source": [
    "# Basic map of with data from the bands that we are looking at.\n",
    "map = geemap.Map(center = [center_lat, center_lon], zoom = 7)\n",
    "map.addLayer(data_mean, visParams)\n",
    "map"
   ]
  },
  {
   "cell_type": "markdown",
   "id": "f11a8531-0693-4440-b028-ae96ec9c3aad",
   "metadata": {
    "tags": []
   },
   "source": [
    "<a id='usecase'></a> \n",
    "### Use Case Example: Identifying Gypsic Soils"
   ]
  },
  {
   "cell_type": "markdown",
   "id": "d7771e0d-5995-4cab-8995-a20b879a2135",
   "metadata": {},
   "source": [
    "#### Mapping habitat suitability for the identification and conservation of the Guadalupe Mountain necklacepod (*Sophora gypsophila*)"
   ]
  },
  {
   "cell_type": "markdown",
   "id": "9953cd9f-0ec8-4696-a659-c48646da4fed",
   "metadata": {},
   "source": [
    "You don't have to be a rocket scientist to use satellite data! This part of the tutorial will focus on an application useful to many conservation ecologists: identifying potential habitat for a threatened species.\n",
    "\n",
    "_Sophora gypsophila_ is a G1 Critically Endangered shrub in the pea family endemic to a small area surrounding the Guadalupe mountains in Southeastern New Mexico and Western Texas. Part of what puts _S. gypsophila_ at risk is the fact that it is a substrate obligate - in other words, it can only survive in a specific soil type. But this also gives us an advantage: it means that we can identify potentially suitable habitat simply by mapping the gypsic areas in the vicinity of existing populations of _S. gypsophila_ and subsetting these areas by the plant's known elevation range. This can be done using Landsat 8 bands 2, 6, and 7 (Landsat 7 bands 1, 5, and 7), taking advantage of the fact that gypsic soils are highly reflective in band 5 but particularly nonreflective in band 7.\n"
   ]
  },
  {
   "cell_type": "markdown",
   "id": "64d9689c-cd10-446d-b1dd-45f38718df80",
   "metadata": {},
   "source": [
    "First, we can use the difference between bands 6 and 7 divided by their sum to identify the OIF (Optimum Index Factor) for gypsic soils:"
   ]
  },
  {
   "cell_type": "code",
   "execution_count": 11,
   "id": "64ddf551-7286-4864-b89b-a8dc99a2a1f5",
   "metadata": {},
   "outputs": [],
   "source": [
    "# The bands that we are interested in. \n",
    "# SR_B1 (band 1) is useful for coastal and aerosol studies. \n",
    "# SR_B5 (band 5) emphasizes biomass content and shorelines.\n",
    "# SR_B7 (band 7) Improved moisture content of soil and vegetation; penetrates thin clouds.\n",
    "swir1 = data_mean.select('SR_B6') # Short wave \n",
    "swir2 = data_mean.select('SR_B7') # Short wave infrared - Improved moisture content of soil and vegetation.\n",
    "\n",
    "oif = (swir1.subtract(swir2)).divide((swir1.add(swir2))).rename('OIF') # optimum index factor statistical value to select the optimum combination of three bands for a satellite image\n",
    "\n",
    "# Add oif band to our image data\n",
    "data_oif = data_mean.addBands(oif)"
   ]
  },
  {
   "cell_type": "markdown",
   "id": "09f0291a-2cb5-49b4-8566-3f23e973f522",
   "metadata": {},
   "source": [
    "To take a look at our new band, we plot it:"
   ]
  },
  {
   "cell_type": "code",
   "execution_count": 12,
   "id": "74ebdd8a-de05-470d-aa99-827f0e261dc1",
   "metadata": {},
   "outputs": [],
   "source": [
    "visParams_oif = {'bands': ['OIF'],\n",
    "                'min': 0,\n",
    "                'max': 0.2,\n",
    "                'palette': ['black', 'white']\n",
    "            }"
   ]
  },
  {
   "cell_type": "code",
   "execution_count": 13,
   "id": "94c511cf-78a4-481e-a643-4d2c560677cd",
   "metadata": {},
   "outputs": [
    {
     "data": {
      "application/vnd.jupyter.widget-view+json": {
       "model_id": "16fc2f2c2a96425fb3d19045bf538c08",
       "version_major": 2,
       "version_minor": 0
      },
      "text/plain": [
       "Map(center=[32.05, -104.74], controls=(WidgetControl(options=['position', 'transparent_bg'], widget=HBox(child…"
      ]
     },
     "metadata": {},
     "output_type": "display_data"
    }
   ],
   "source": [
    "map_oif = geemap.Map(center = [center_lat, center_lon], zoom = 7)\n",
    "map_oif.addLayer(data_oif, visParams_oif)\n",
    "map_oif"
   ]
  },
  {
   "cell_type": "markdown",
   "id": "82252c9c-7cab-448f-9463-cb118c94d0cc",
   "metadata": {},
   "source": [
    "As you can see, there is still a problem with this result: some areas that can clearly be identified as crop circles show up white in addition to soils with high gypsum content. This means that vegetation is also being detected by our OIF band - not what we want.\n",
    "\n",
    "To fix this, we can add another band, this time calculating NDVI (Normalized Difference Vegetation Index) with the same math we used to calculate OIF, but using bands 4 (red) and 5 (near-infrared)."
   ]
  },
  {
   "cell_type": "code",
   "execution_count": 14,
   "id": "67ad85d9-1115-4b8f-ba46-d777ca791ec3",
   "metadata": {},
   "outputs": [],
   "source": [
    "red = data_mean.select('SR_B4')\n",
    "nir = data_mean.select('SR_B5')\n",
    "\n",
    "ndvi = (nir.subtract(red)).divide((nir.add(red))).rename('NDVI') # Normalized Difference Vegetation Index\n",
    "\n",
    "data_oif_ndvi = data_oif.addBands(ndvi)"
   ]
  },
  {
   "cell_type": "markdown",
   "id": "309ae040-5c30-4bc6-873c-cb8e7813ee55",
   "metadata": {},
   "source": [
    "Now, by mapping OIF and NDVI together, we should be able to differentiate between soil and vegetation: this is becasue vegetation will appear in both bands (blue), but gypsic soils will only appear in OIF (red)."
   ]
  },
  {
   "cell_type": "code",
   "execution_count": 15,
   "id": "28824452-7714-4e9a-933f-0ed0bdc09eec",
   "metadata": {},
   "outputs": [],
   "source": [
    "visParams_oif_ndvi = {'bands': ['OIF', 'NDVI'],\n",
    "                min: 0,\n",
    "                max: 0.5\n",
    "            }"
   ]
  },
  {
   "cell_type": "code",
   "execution_count": 17,
   "id": "3aa1b689-cdb1-4bbd-9a71-9c78a71cf29f",
   "metadata": {
    "tags": []
   },
   "outputs": [
    {
     "data": {
      "application/vnd.jupyter.widget-view+json": {
       "model_id": "681a0344036e42f8ae1943fa978d7e20",
       "version_major": 2,
       "version_minor": 0
      },
      "text/plain": [
       "Map(center=[32.05, -104.74], controls=(WidgetControl(options=['position', 'transparent_bg'], widget=HBox(child…"
      ]
     },
     "metadata": {},
     "output_type": "display_data"
    }
   ],
   "source": [
    "map_oif_ndvi = geemap.Map(center = [center_lat, center_lon], zoom = 7)\n",
    "map_oif_ndvi.addLayer(data_oif_ndvi, visParams_oif_ndvi)\n",
    "map_oif_ndvi"
   ]
  },
  {
   "cell_type": "code",
   "execution_count": null,
   "id": "85611947-0a3c-4ebc-997f-67eebfb2a596",
   "metadata": {},
   "outputs": [],
   "source": []
  },
  {
   "cell_type": "code",
   "execution_count": null,
   "id": "116d7f94-1a87-4cd1-a998-231226dcf82d",
   "metadata": {},
   "outputs": [],
   "source": []
  },
  {
   "cell_type": "markdown",
   "id": "a95d8add-1e95-47ef-8812-c7d9526c3afc",
   "metadata": {},
   "source": [
    "Do we want to describe this in HW3 or no?"
   ]
  },
  {
   "cell_type": "code",
   "execution_count": 192,
   "id": "083fbcec-5708-461f-9ce0-339eba5a6948",
   "metadata": {},
   "outputs": [
    {
     "data": {
      "application/vnd.jupyter.widget-view+json": {
       "model_id": "ba1c5941cc934e65bf7d90b0a5672df6",
       "version_major": 2,
       "version_minor": 0
      },
      "text/plain": [
       "Map(center=[38.8236, -110.6774], controls=(WidgetControl(options=['position', 'transparent_bg'], widget=HBox(c…"
      ]
     },
     "metadata": {},
     "output_type": "display_data"
    }
   ],
   "source": [
    "# center_sr_lat = 38.8236\n",
    "# center_sr_lon = -110.6774\n",
    "# center_point_sr = ee.Geometry.Point(center_sr_lon, center_sr_lat)\n",
    "# roi_sr = center_point_sr.buffer(50000)\n",
    "\n",
    "# visParams_sr = {'bands': ['OIF', 'NDVI'],\n",
    "#                 'min': 0,\n",
    "#                 'max': 0.5\n",
    "#            }\n",
    "\n",
    "# map_sr = geemap.Map(center = [center_sr_lat, center_sr_lon], zoom = 7)\n",
    "# map_sr.addLayer(data_oif_ndvi, visParams_sr)\n",
    "# map_sr"
   ]
  },
  {
   "cell_type": "markdown",
   "id": "f44af7c3-423d-4ac0-b1ca-714ddad45c2a",
   "metadata": {},
   "source": [
    "#### Future Uses\n",
    "\n",
    "An additional step in adapting Landsat data for conservation purposes would be comparing the identified potential Sophora habitat with land ownership maps in the region to target separate management solutions for public and private land.\n",
    "\n",
    "Furthermore, to calculate more precise estimates for S. gypsophila habitat, we could overlay an elevation map to select only those areas which contain both gypsic soils and fall between 1000-5000 feet above sea level (the known elevation range of current S. gypsophila populations)."
   ]
  },
  {
   "cell_type": "markdown",
   "id": "40697ca8-9d7a-4f95-9b08-6375a09ea0a4",
   "metadata": {},
   "source": [
    "<a id='references'></a> \n",
    "### References\n",
    "\n",
    "Binte Mostafiz, R.; Noguchi, R.; Ahamed, T. Agricultural Land Suitability Assessment Using Satellite Remote Sensing-Derived Soil-Vegetation Indices. Land 2021, 10, 223. https://doi.org/10.3390/land10020223\n",
    "\n",
    "Boettinger, J., Ramsey, R., Bodily, J., Cole, N., Kienast-brown, S., Nield, S., Saunders, A., & Stum, A. (2008). Landsat Spectral Data for Digital Soil Mapping. Digital Soil Mapping with Limited Data. https://doi.org/10.1007/978-1-4020-8592-5_16\n",
    "\n",
    "Browning, D. M., & Duniway, M. C. (2011). Digital Soil Mapping in the Absence of Field Training Data: A Case Study Using Terrain Attributes and Semiautomated Soil Signature Derivation to Distinguish Ecological Potential. Applied and Environmental Soil Science, 2011, e421904. https://doi.org/10.1155/2011/421904\n",
    "\n",
    "Landsat 8 data courtesy of the U.S. Geological Survey. https://developers.google.com/earth-engine/datasets/catalog/LANDSAT_LC08_C02_T1_L2#image-properties\n",
    "\n",
    "Nield, S. J., Boettinger, J. L., & Ramsey, R. D. (2007). Digitally Mapping Gypsic and Natric Soil Areas Using Landsat ETM Data. Soil Science Society of America Journal, 71(1), 245–252. https://doi.org/10.2136/sssaj2006-0049\n",
    "\n",
    "Ridwan, M. A., Radzi, N., Ahmad, W., Mustafa, I., Din, N., Jalil, Y., Isa, A., Othman A., Zaki, W. Applications of Landsat-8 Data: Survey. Internation Journal of Engineering & Techonology 2018, 11, 436-441. DOI:10.14419/ijet.v7i4.35.22858\n",
    "\n",
    "Sophora gypsophila | NatureServe Explorer. (n.d.). Retrieved November 16, 2021, from https://explorer.natureserve.org/Taxon/ELEMENT_GLOBAL.2.155365/Sophora_gypsophila\n",
    "\n",
    "Soil Survey Manual - Ch. 5. Digital Soil Mapping | NRCS Soils. (n.d.). Retrieved November 16, 2021, from https://www.nrcs.usda.gov/wps/portal/nrcs/detail/soils/ref/?cid=nrcs142p2_054255\n",
    "\n",
    "Stafford, K., Rosales Lagarde, L., & Boston, P. (2008). Castile evaporite karst potential map of the Gypsum Plain, Eddy County New Mexico and Culberson County, Texas: A GIS methodological comparison. J Cave Karst Stud, 70.\n",
    "\n",
    "Texas Native Plants Database. (n.d.). Retrieved November 16, 2021, from https://aggie-horticulture.tamu.edu/ornamentals/nativeshrubs/sophoragypsophila.htm\n",
    "\n",
    "Vermote, E., Justice, C., Claverie, M., & Franch, B. (2016). Preliminary analysis of the performance of the Landsat 8/OLI land surface reflectance product. Remote Sensing of Environment, 185, 46-56."
   ]
  }
 ],
 "metadata": {
  "kernelspec": {
   "display_name": "Python 3 (ipykernel)",
   "language": "python",
   "name": "python3"
  },
  "language_info": {
   "codemirror_mode": {
    "name": "ipython",
    "version": 3
   },
   "file_extension": ".py",
   "mimetype": "text/x-python",
   "name": "python",
   "nbconvert_exporter": "python",
   "pygments_lexer": "ipython3",
   "version": "3.9.7"
  }
 },
 "nbformat": 4,
 "nbformat_minor": 5
}
