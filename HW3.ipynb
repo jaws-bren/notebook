{
 "cells": [
  {
   "cell_type": "markdown",
   "id": "63b97f48-c12d-4f2d-a1c6-e993371eae5e",
   "metadata": {},
   "source": [
    "# Landsat 8: \n",
    "## EDS 220, Fall 2021\n",
    "Friday, November 19"
   ]
  },
  {
   "cell_type": "markdown",
   "id": "73253f48-a0a1-400a-9680-b013de5b8be4",
   "metadata": {},
   "source": [
    "## Authors\n",
    "\n",
    "- Alex Vand, UC Santa Barbara (asy@bren.ucsb.edu)\n",
    "- Julia Parish, UC Santa Barbara (jparish@bren.ucsb.edu)\n",
    "- Wylie Hampson, UC Santa Barbara (whampson@bren.ucsb.edu)\n",
    "- Shale Hunter, UC Santa Barbara (shale@bren.ucsb.edu)"
   ]
  },
  {
   "cell_type": "markdown",
   "id": "51e07e4b-59dd-4f79-a599-296f2ba7c09a",
   "metadata": {},
   "source": [
    "## Table of Contents\n",
    "\n",
    "[1. Purpose](#purpose)\n",
    "\n",
    "[2. Dataset Description](#overview)\n",
    "\n",
    "[3. Data I/O](#io)\n",
    "\n",
    "[4. Metadata Display and Basic Visualization](#display)\n",
    "\n",
    "[5. Use Case Examples](#usecases)\n",
    "\n",
    "[6. Create Binder Environment](#binder)\n",
    "\n",
    "[7. References](#references)"
   ]
  },
  {
   "cell_type": "markdown",
   "id": "e7721146-dbd0-4955-ae95-313272cea288",
   "metadata": {
    "tags": []
   },
   "source": [
    "<a id='purpose'></a> \n",
    "### Notebook Purpose\n",
    "\n",
    "This notebook was created to provide an introduction to using satellite data from the <a href=\"https://developers.google.com/earth-engine/datasets/catalog/LANDSAT_LC08_C02_T1_L2#description/\" target=\"_blank\">USGS Landsat 8 Level 2, Collection 2, Tier 1</a> sourced from Google Earth Engine for analysis to identify soil composition.\n"
   ]
  },
  {
   "cell_type": "markdown",
   "id": "cbfff42f-a933-478c-8330-0104769db1f1",
   "metadata": {},
   "source": [
    "<a id='overview'></a> \n",
    "### Dataset Description\n",
    "\n",
    "\n",
    "- The creators of the dataset: Joint program of USGS and NASA\n",
    "\n",
    "- Major characteristics of the dataset: \n",
    "\n",
    "Data collected from 2013-04-11 to 2021-10-21.\n",
    "Landsat satellites image the entire Earth every 16 days; 99 min per orbit.\n",
    "CRS: WGS 84\n",
    "Surface reflectance, not top of atmosphere.\n",
    "Bands: 5 visible and near-infrared, 2 shortwave infrared, 1 thermal band\n",
    "\n",
    "- The file format(s) used to store the data: TIFF\n",
    "\n",
    "- The source/archive you will be using to retrieve the data: Google Earth Engine <a href=\"https://developers.google.com/earth-engine/datasets/catalog/LANDSAT_LC08_C02_T1_L2#description/\" target=\"_blank\">USGS Landsat 8 Level 2, Collection 2, Tier 1</a>\n",
    "\n",
    "- Any known issues with data quality that might be expected to impact the results<br>\n",
    "Since the data is coming from Landsat 8, we can trust that it is generally pretty reliable data. The remote sensing equipment on Landsat 8 is the Operational Land Imager (OLI) which is a multichannel scanning radiometer,and a two-channel infared radiometer, Thermal Infrared Sensor (TIRS).<br>\n",
    "There are some known issues with this dataset, but many of them don’t concern most people that may be using this data. One of the most concerning issues is with cloud cover and cloud shadows. The data from this dataset can be affected if there is heavy cloud coverage. The images from the dataset have a 30 meter resolution which will allow us to get high definition images for the area of land that we will be looking at. If you were to look at a small area of land, say a few square kilometers, this data set may not be ideal because the 30 meter resolution won’t allow you to see much detail, but for this use case it works well."
   ]
  },
  {
   "cell_type": "markdown",
   "id": "bbd9d12b-13e5-47ac-8100-af02ac0c1dfb",
   "metadata": {},
   "source": [
    "<a id='io'></a> \n",
    "### Dataset Input/Output "
   ]
  },
  {
   "cell_type": "markdown",
   "id": "41944590-a524-47e9-afbd-3d4d32306c10",
   "metadata": {},
   "source": [
    "<a id='display'></a> \n",
    "### Metadata Display and Basic Visualization"
   ]
  },
  {
   "cell_type": "markdown",
   "id": "f11a8531-0693-4440-b028-ae96ec9c3aad",
   "metadata": {},
   "source": [
    "<a id='usecase'></a> \n",
    "### Use Case Example"
   ]
  },
  {
   "cell_type": "markdown",
   "id": "b460a55b-3a0d-4996-808d-e4f74b8c3ada",
   "metadata": {},
   "source": [
    "<a id='binder'></a> \n",
    "### Create Binder Environment"
   ]
  },
  {
   "cell_type": "markdown",
   "id": "40697ca8-9d7a-4f95-9b08-6375a09ea0a4",
   "metadata": {},
   "source": [
    "<a id='references'></a> \n",
    "### References\n",
    "\n",
    "Binte Mostafiz, R.; Noguchi, R.; Ahamed, T. Agricultural Land Suitability Assessment Using Satellite Remote Sensing-Derived Soil-Vegetation Indices. Land 2021, 10, 223. https://doi.org/10.3390/land10020223\n",
    "\n",
    "Landsat 8 data courtesy of the U.S. Geological Survey. https://developers.google.com/earth-engine/datasets/catalog/LANDSAT_LC08_C02_T1_L2#image-properties\n",
    "\n",
    "Ridwan, M. A., Radzi, N., Ahmad, W., Mustafa, I., Din, N., Jalil, Y., Isa, A., Othman A., Zaki, W. Applications of Landsat-8 Data: Survey. Internation Journal of Engineering & Techonology 2018, 11, 436-441. DOI:10.14419/ijet.v7i4.35.22858\n",
    "\n",
    "Vermote, E., Justice, C., Claverie, M., & Franch, B. (2016). Preliminary analysis of the performance of the Landsat 8/OLI land surface reflectance product. Remote Sensing of Environment, 185, 46-56.\n",
    "\n",
    "\n"
   ]
  }
 ],
 "metadata": {
  "kernelspec": {
   "display_name": "Python 3 (ipykernel)",
   "language": "python",
   "name": "python3"
  },
  "language_info": {
   "codemirror_mode": {
    "name": "ipython",
    "version": 3
   },
   "file_extension": ".py",
   "mimetype": "text/x-python",
   "name": "python",
   "nbconvert_exporter": "python",
   "pygments_lexer": "ipython3",
   "version": "3.9.7"
  }
 },
 "nbformat": 4,
 "nbformat_minor": 5
}
