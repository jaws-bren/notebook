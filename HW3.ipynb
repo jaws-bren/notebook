{
 "cells": [
  {
   "cell_type": "markdown",
   "id": "63b97f48-c12d-4f2d-a1c6-e993371eae5e",
   "metadata": {},
   "source": [
    "# Landsat 8: \n",
    "## EDS 220, Fall 2021\n",
    "Friday, November 19"
   ]
  },
  {
   "cell_type": "markdown",
   "id": "73253f48-a0a1-400a-9680-b013de5b8be4",
   "metadata": {},
   "source": [
    "## Authors\n",
    "\n",
    "- Julia Parish, UC Santa Barbara (jparish@bren.ucsb.edu)\n",
    "- Alex Vand, UC Santa Barbara (asy@bren.ucsb.edu)\n",
    "- Wylie Hampson, UC Santa Barbara (whampson@bren.ucsb.edu)\n",
    "- Shale Hunter, UC Santa Barbara (shale@bren.ucsb.edu)"
   ]
  },
  {
   "cell_type": "markdown",
   "id": "51e07e4b-59dd-4f79-a599-296f2ba7c09a",
   "metadata": {},
   "source": [
    "## Table of Contents\n",
    "\n",
    "[1. Purpose](#purpose)\n",
    "\n",
    "[2. Dataset Description](#overview)\n",
    "\n",
    "[3. Data I/O](#io)\n",
    "\n",
    "[4. Metadata Display and Basic Visualization](#display)\n",
    "\n",
    "[5. Use Case Examples](#usecases)\n",
    "\n",
    "[6. Create Binder Environment](#binder)\n",
    "\n",
    "[7. References](#references)"
   ]
  },
  {
   "cell_type": "markdown",
   "id": "e7721146-dbd0-4955-ae95-313272cea288",
   "metadata": {
    "tags": []
   },
   "source": [
    "<a id='purpose'></a> \n",
    "### Notebook Purpose\n",
    "\n",
    "This notebook was created to provide an introduction to using satellite data from the <a href=\"https://developers.google.com/earth-engine/datasets/catalog/LANDSAT_LC08_C02_T1_L2#description/\" target=\"_blank\">USGS Landsat 8 Level 2, Collection 2, Tier 1</a> sourced from Google Earth Engine for analysis to identify soil composition.\n"
   ]
  },
  {
   "cell_type": "markdown",
   "id": "cbfff42f-a933-478c-8330-0104769db1f1",
   "metadata": {},
   "source": [
    "<a id='overview'></a> \n",
    "### Dataset Description\n",
    "\n",
    "The dataset JAWS is exploring is <a href=\"https://developers.google.com/earth-engine/datasets/catalog/LANDSAT_LC08_C02_T1_L2#description/\" target=\"_blank\">USGS Landsat 8 Level 2, Collection 2, Tier 1</a> sourced from Google Earth Engine. The creators of the dataset is a Joint program of USGS and NASA. Landsat8 is a joint effort between USGS and NASA, with data collected from 2013-04-11 to the present. This particular dataset is the atmospherically corrected surface reflectance and land surface temperature from the Landsat 8 OLI/TIRS sensors. The satellite orbits the earth in 99 minutes, covering individual overlapping swaths, or “scenes”, of the surface. Images are collected over 8-16 days and then compiled to create comprehensive images for the entire earth. Landsat data is represented in WGS84 and the images contain 5 visible and near-infrared bands, 2 short-wave infrared bands, and 1 thermal infrared.\n",
    "\n",
    "Images are provided as TIFs, which can support the wide variety of image types already used for geographic imagery. Metadata files are available for download in Material Library File (MTL) and Extensible Markup Language (XML) formats.\n",
    "\n",
    "\n",
    "- The source/archive you will be using to retrieve the data: Google Earth Engine <a href=\"https://developers.google.com/earth-engine/datasets/catalog/LANDSAT_LC08_C02_T1_L2#description/\" target=\"_blank\">USGS Landsat 8 Level 2, Collection 2, Tier 1</a>\n",
    "\n",
    "- Any known issues with data quality that might be expected to impact the results<br>\n",
    "Since the data is coming from Landsat 8, we can trust that it is generally pretty reliable data. The remote sensing equipment on Landsat 8 is the Operational Land Imager (OLI) which is a multichannel scanning radiometer,and a two-channel infared radiometer, Thermal Infrared Sensor (TIRS).<br>\n",
    "There are some known issues with this dataset, but many of them don’t concern most people that may be using this data. One of the most concerning issues is with cloud cover and cloud shadows. The data from this dataset can be affected if there is heavy cloud coverage. The images from the dataset have a 30 meter resolution which will allow us to get high definition images for the area of land that we will be looking at. If you were to look at a small area of land, say a few square kilometers, this data set may not be ideal because the 30 meter resolution won’t allow you to see much detail, but for this use case it works well."
   ]
  },
  {
   "cell_type": "markdown",
   "id": "bbd9d12b-13e5-47ac-8100-af02ac0c1dfb",
   "metadata": {},
   "source": [
    "<a id='io'></a> \n",
    "### Dataset Input/Output \n",
    "\n",
    "Setup for our analysis is quite simple using the Landsat API:\n",
    "\n",
    "1) Import necessary packages"
   ]
  },
  {
   "cell_type": "code",
   "execution_count": 1,
   "id": "e385630f-a73f-47b7-9481-bf5502720493",
   "metadata": {},
   "outputs": [],
   "source": [
    "import ee\n",
    "import geemap\n",
    "import pandas as pd\n",
    "import matplotlib.pyplot as plt\n",
    "import numpy as np"
   ]
  },
  {
   "cell_type": "code",
   "execution_count": 3,
   "id": "4c6f5e4c-79d9-4798-bab2-e0ff251d6051",
   "metadata": {},
   "outputs": [],
   "source": [
    "ee.Authenticate()\n",
    "ee.Initialize()"
   ]
  },
  {
   "cell_type": "markdown",
   "id": "fba5afc8-5aa2-4819-9350-f4197fba1244",
   "metadata": {},
   "source": [
    "2) Set parameters that will be needed for analysis in subsequent portions of the notebook.\n",
    "\n",
    "Here, we create a region of interest with a 50km radius around the coordinates (32.05, -104.74). "
   ]
  },
  {
   "cell_type": "code",
   "execution_count": 4,
   "id": "a1c2f4ee-ecba-4ff3-9ed6-f290b409cc30",
   "metadata": {
    "tags": []
   },
   "outputs": [],
   "source": [
    "# create a centroid over region of interest, Guadalupe Mountains of New Mexico and Texas\n",
    "\n",
    "center_lat = 32.05\n",
    "center_lon = -104.74\n",
    "center_point = ee.Geometry.Point(center_lon, center_lat)\n",
    "roi = center_point.buffer(50000)"
   ]
  },
  {
   "cell_type": "markdown",
   "id": "285eda17-4440-4adc-9f15-eed65895eee9",
   "metadata": {},
   "source": [
    "3) Read in the data from the Landsat API.\n",
    "    Note the last part of the identifier indicates that we are using Tier 1 data from NASA's Collection 2 of Landsat data."
   ]
  },
  {
   "cell_type": "code",
   "execution_count": 5,
   "id": "a2d56586-439d-41db-a4ac-a1c78015c7e1",
   "metadata": {},
   "outputs": [],
   "source": [
    "# read in Landsat 8 data from Google Earth Engine\n",
    "\n",
    "data = ee.ImageCollection(\"LANDSAT/LC08/C02/T1_L2\")"
   ]
  },
  {
   "cell_type": "markdown",
   "id": "41944590-a524-47e9-afbd-3d4d32306c10",
   "metadata": {},
   "source": [
    "<a id='display'></a> \n",
    "### Metadata Display and Basic Visualization\n",
    "\n",
    "To get an idea of what we're working with, we can use the `propertyNames()` and `getInfo()` function to display some metadata for Landsat 8. For our purposes, available bands are the most important. A reminder of what wavelengths are recorded in which band can be found [here](https://www.usgs.gov/media/images/landsat-8-band-designations).\n",
    "\n",
    "An important thing to keep track of with Landsat data is the dates: As satellites cycle through (i.e. break and are replaced), Landsat data must be accessed through different APIs. Landsat 8 data is only availble from February 2013, so if we were interested in images from before then we would have to access Landsat 7 data, whihc runs back to April 1999, and so on."
   ]
  },
  {
   "cell_type": "code",
   "execution_count": 8,
   "id": "aae9e1f6-62ed-4f43-92e6-0f3a8939ba1c",
   "metadata": {},
   "outputs": [
    {
     "data": {
      "text/plain": [
       "<ee.ee_list.List at 0x13e35c040>"
      ]
     },
     "execution_count": 8,
     "metadata": {},
     "output_type": "execute_result"
    }
   ],
   "source": [
    "data.first().propertyNames()"
   ]
  },
  {
   "cell_type": "code",
   "execution_count": 48,
   "id": "c18e8bc7-db1c-454d-aea9-61157de8b2ff",
   "metadata": {
    "collapsed": true,
    "jupyter": {
     "outputs_hidden": true
    },
    "tags": []
   },
   "outputs": [
    {
     "name": "stdout",
     "output_type": "stream",
     "text": [
      "Metadata properties: ['DATA_SOURCE_ELEVATION', 'WRS_TYPE', 'system:id', 'REFLECTANCE_ADD_BAND_1', 'REFLECTANCE_ADD_BAND_2', 'DATUM', 'REFLECTANCE_ADD_BAND_3', 'REFLECTANCE_ADD_BAND_4', 'REFLECTANCE_ADD_BAND_5', 'REFLECTANCE_ADD_BAND_6', 'REFLECTANCE_ADD_BAND_7', 'system:footprint', 'REFLECTIVE_SAMPLES', 'system:version', 'GROUND_CONTROL_POINTS_VERSION', 'SUN_AZIMUTH', 'DATA_SOURCE_TIRS_STRAY_LIGHT_CORRECTION', 'UTM_ZONE', 'DATE_ACQUIRED', 'ELLIPSOID', 'system:time_end', 'DATA_SOURCE_PRESSURE', 'LANDSAT_PRODUCT_ID', 'STATION_ID', 'TEMPERATURE_ADD_BAND_ST_B10', 'DATA_SOURCE_REANALYSIS', 'REFLECTANCE_MULT_BAND_7', 'system:time_start', 'REFLECTANCE_MULT_BAND_6', 'L1_PROCESSING_LEVEL', 'PROCESSING_SOFTWARE_VERSION', 'L1_DATE_PRODUCT_GENERATED', 'ORIENTATION', 'REFLECTANCE_MULT_BAND_1', 'WRS_ROW', 'REFLECTANCE_MULT_BAND_3', 'REFLECTANCE_MULT_BAND_2', 'TARGET_WRS_ROW', 'REFLECTANCE_MULT_BAND_5', 'REFLECTANCE_MULT_BAND_4', 'THERMAL_LINES', 'TIRS_SSM_POSITION_STATUS', 'GRID_CELL_SIZE_THERMAL', 'IMAGE_QUALITY_TIRS', 'TRUNCATION_OLI', 'NADIR_OFFNADIR', 'CLOUD_COVER', 'REQUEST_ID', 'EARTH_SUN_DISTANCE', 'TIRS_SSM_MODEL', 'COLLECTION_CATEGORY', 'SCENE_CENTER_TIME', 'GRID_CELL_SIZE_REFLECTIVE', 'SUN_ELEVATION', 'ALGORITHM_SOURCE_SURFACE_TEMPERATURE', 'TEMPERATURE_MAXIMUM_BAND_ST_B10', 'CLOUD_COVER_LAND', 'GEOMETRIC_RMSE_MODEL', 'ROLL_ANGLE', 'COLLECTION_NUMBER', 'DATE_PRODUCT_GENERATED', 'L1_REQUEST_ID', 'DATA_SOURCE_OZONE', 'SATURATION_BAND_1', 'DATA_SOURCE_WATER_VAPOR', 'SATURATION_BAND_2', 'SATURATION_BAND_3', 'IMAGE_QUALITY_OLI', 'SATURATION_BAND_4', 'LANDSAT_SCENE_ID', 'SATURATION_BAND_5', 'MAP_PROJECTION', 'SATURATION_BAND_6', 'SENSOR_ID', 'SATURATION_BAND_7', 'SATURATION_BAND_8', 'WRS_PATH', 'SATURATION_BAND_9', 'TARGET_WRS_PATH', 'L1_PROCESSING_SOFTWARE_VERSION', 'TEMPERATURE_MULT_BAND_ST_B10', 'L1_LANDSAT_PRODUCT_ID', 'PROCESSING_LEVEL', 'ALGORITHM_SOURCE_SURFACE_REFLECTANCE', 'GROUND_CONTROL_POINTS_MODEL', 'SPACECRAFT_ID', 'TEMPERATURE_MINIMUM_BAND_ST_B10', 'GEOMETRIC_RMSE_MODEL_Y', 'REFLECTIVE_LINES', 'GEOMETRIC_RMSE_MODEL_X', 'THERMAL_SAMPLES', 'system:asset_size', 'DATA_SOURCE_AIR_TEMPERATURE', 'system:index', 'system:bands', 'system:band_names']\n"
     ]
    }
   ],
   "source": [
    "# Explore the metadata - metadata display: variables\n",
    "testImg = data.first()\n",
    "properties = testImg.propertyNames()\n",
    "print('Metadata properties:',\n",
    "      properties.getInfo())  # ee.List of metadata properties\n"
   ]
  },
  {
   "cell_type": "code",
   "execution_count": 49,
   "id": "983f57e3-824e-46e8-9cb9-7df74febf9fa",
   "metadata": {
    "collapsed": true,
    "jupyter": {
     "outputs_hidden": true
    },
    "tags": []
   },
   "outputs": [
    {
     "data": {
      "text/plain": [
       "{'type': 'Image',\n",
       " 'bands': [{'id': 'SR_B1',\n",
       "   'data_type': {'type': 'PixelType',\n",
       "    'precision': 'int',\n",
       "    'min': 0,\n",
       "    'max': 65535},\n",
       "   'dimensions': [9161, 9161],\n",
       "   'crs': 'EPSG:32628',\n",
       "   'crs_transform': [30, 0, 341085, 0, -30, 8808015]},\n",
       "  {'id': 'SR_B2',\n",
       "   'data_type': {'type': 'PixelType',\n",
       "    'precision': 'int',\n",
       "    'min': 0,\n",
       "    'max': 65535},\n",
       "   'dimensions': [9161, 9161],\n",
       "   'crs': 'EPSG:32628',\n",
       "   'crs_transform': [30, 0, 341085, 0, -30, 8808015]},\n",
       "  {'id': 'SR_B3',\n",
       "   'data_type': {'type': 'PixelType',\n",
       "    'precision': 'int',\n",
       "    'min': 0,\n",
       "    'max': 65535},\n",
       "   'dimensions': [9161, 9161],\n",
       "   'crs': 'EPSG:32628',\n",
       "   'crs_transform': [30, 0, 341085, 0, -30, 8808015]},\n",
       "  {'id': 'SR_B4',\n",
       "   'data_type': {'type': 'PixelType',\n",
       "    'precision': 'int',\n",
       "    'min': 0,\n",
       "    'max': 65535},\n",
       "   'dimensions': [9161, 9161],\n",
       "   'crs': 'EPSG:32628',\n",
       "   'crs_transform': [30, 0, 341085, 0, -30, 8808015]},\n",
       "  {'id': 'SR_B5',\n",
       "   'data_type': {'type': 'PixelType',\n",
       "    'precision': 'int',\n",
       "    'min': 0,\n",
       "    'max': 65535},\n",
       "   'dimensions': [9161, 9161],\n",
       "   'crs': 'EPSG:32628',\n",
       "   'crs_transform': [30, 0, 341085, 0, -30, 8808015]},\n",
       "  {'id': 'SR_B6',\n",
       "   'data_type': {'type': 'PixelType',\n",
       "    'precision': 'int',\n",
       "    'min': 0,\n",
       "    'max': 65535},\n",
       "   'dimensions': [9161, 9161],\n",
       "   'crs': 'EPSG:32628',\n",
       "   'crs_transform': [30, 0, 341085, 0, -30, 8808015]},\n",
       "  {'id': 'SR_B7',\n",
       "   'data_type': {'type': 'PixelType',\n",
       "    'precision': 'int',\n",
       "    'min': 0,\n",
       "    'max': 65535},\n",
       "   'dimensions': [9161, 9161],\n",
       "   'crs': 'EPSG:32628',\n",
       "   'crs_transform': [30, 0, 341085, 0, -30, 8808015]},\n",
       "  {'id': 'SR_QA_AEROSOL',\n",
       "   'data_type': {'type': 'PixelType',\n",
       "    'precision': 'int',\n",
       "    'min': 0,\n",
       "    'max': 255},\n",
       "   'dimensions': [9161, 9161],\n",
       "   'crs': 'EPSG:32628',\n",
       "   'crs_transform': [30, 0, 341085, 0, -30, 8808015]},\n",
       "  {'id': 'ST_B10',\n",
       "   'data_type': {'type': 'PixelType',\n",
       "    'precision': 'int',\n",
       "    'min': 0,\n",
       "    'max': 65535},\n",
       "   'dimensions': [9161, 9161],\n",
       "   'crs': 'EPSG:32628',\n",
       "   'crs_transform': [30, 0, 341085, 0, -30, 8808015]},\n",
       "  {'id': 'ST_ATRAN',\n",
       "   'data_type': {'type': 'PixelType',\n",
       "    'precision': 'int',\n",
       "    'min': -32768,\n",
       "    'max': 32767},\n",
       "   'dimensions': [9161, 9161],\n",
       "   'crs': 'EPSG:32628',\n",
       "   'crs_transform': [30, 0, 341085, 0, -30, 8808015]},\n",
       "  {'id': 'ST_CDIST',\n",
       "   'data_type': {'type': 'PixelType',\n",
       "    'precision': 'int',\n",
       "    'min': -32768,\n",
       "    'max': 32767},\n",
       "   'dimensions': [9161, 9161],\n",
       "   'crs': 'EPSG:32628',\n",
       "   'crs_transform': [30, 0, 341085, 0, -30, 8808015]},\n",
       "  {'id': 'ST_DRAD',\n",
       "   'data_type': {'type': 'PixelType',\n",
       "    'precision': 'int',\n",
       "    'min': -32768,\n",
       "    'max': 32767},\n",
       "   'dimensions': [9161, 9161],\n",
       "   'crs': 'EPSG:32628',\n",
       "   'crs_transform': [30, 0, 341085, 0, -30, 8808015]},\n",
       "  {'id': 'ST_EMIS',\n",
       "   'data_type': {'type': 'PixelType',\n",
       "    'precision': 'int',\n",
       "    'min': -32768,\n",
       "    'max': 32767},\n",
       "   'dimensions': [9161, 9161],\n",
       "   'crs': 'EPSG:32628',\n",
       "   'crs_transform': [30, 0, 341085, 0, -30, 8808015]},\n",
       "  {'id': 'ST_EMSD',\n",
       "   'data_type': {'type': 'PixelType',\n",
       "    'precision': 'int',\n",
       "    'min': -32768,\n",
       "    'max': 32767},\n",
       "   'dimensions': [9161, 9161],\n",
       "   'crs': 'EPSG:32628',\n",
       "   'crs_transform': [30, 0, 341085, 0, -30, 8808015]},\n",
       "  {'id': 'ST_QA',\n",
       "   'data_type': {'type': 'PixelType',\n",
       "    'precision': 'int',\n",
       "    'min': -32768,\n",
       "    'max': 32767},\n",
       "   'dimensions': [9161, 9161],\n",
       "   'crs': 'EPSG:32628',\n",
       "   'crs_transform': [30, 0, 341085, 0, -30, 8808015]},\n",
       "  {'id': 'ST_TRAD',\n",
       "   'data_type': {'type': 'PixelType',\n",
       "    'precision': 'int',\n",
       "    'min': -32768,\n",
       "    'max': 32767},\n",
       "   'dimensions': [9161, 9161],\n",
       "   'crs': 'EPSG:32628',\n",
       "   'crs_transform': [30, 0, 341085, 0, -30, 8808015]},\n",
       "  {'id': 'ST_URAD',\n",
       "   'data_type': {'type': 'PixelType',\n",
       "    'precision': 'int',\n",
       "    'min': -32768,\n",
       "    'max': 32767},\n",
       "   'dimensions': [9161, 9161],\n",
       "   'crs': 'EPSG:32628',\n",
       "   'crs_transform': [30, 0, 341085, 0, -30, 8808015]},\n",
       "  {'id': 'QA_PIXEL',\n",
       "   'data_type': {'type': 'PixelType',\n",
       "    'precision': 'int',\n",
       "    'min': 0,\n",
       "    'max': 65535},\n",
       "   'dimensions': [9161, 9161],\n",
       "   'crs': 'EPSG:32628',\n",
       "   'crs_transform': [30, 0, 341085, 0, -30, 8808015]},\n",
       "  {'id': 'QA_RADSAT',\n",
       "   'data_type': {'type': 'PixelType',\n",
       "    'precision': 'int',\n",
       "    'min': 0,\n",
       "    'max': 65535},\n",
       "   'dimensions': [9161, 9161],\n",
       "   'crs': 'EPSG:32628',\n",
       "   'crs_transform': [30, 0, 341085, 0, -30, 8808015]}],\n",
       " 'id': 'LANDSAT/LC08/C02/T1_L2/LC08_001004_20140609',\n",
       " 'version': 1629837149647415,\n",
       " 'properties': {'DATA_SOURCE_ELEVATION': 'GLS2000',\n",
       "  'WRS_TYPE': 2,\n",
       "  'REFLECTANCE_ADD_BAND_1': -0.2,\n",
       "  'REFLECTANCE_ADD_BAND_2': -0.2,\n",
       "  'DATUM': 'WGS84',\n",
       "  'REFLECTANCE_ADD_BAND_3': -0.2,\n",
       "  'REFLECTANCE_ADD_BAND_4': -0.2,\n",
       "  'REFLECTANCE_ADD_BAND_5': -0.2,\n",
       "  'REFLECTANCE_ADD_BAND_6': -0.2,\n",
       "  'REFLECTANCE_ADD_BAND_7': -0.2,\n",
       "  'system:footprint': {'type': 'LinearRing',\n",
       "   'coordinates': [[-10.748145650613159, 77.97847329044309],\n",
       "    [-10.41674661414212, 78.0374212170161],\n",
       "    [-10.083010385206768, 78.09606865333609],\n",
       "    [-10.082810415857653, 78.09655889919767],\n",
       "    [-10.331571946271144, 78.15720169242425],\n",
       "    [-12.868921733255618, 78.7294469513453],\n",
       "    [-15.66946392171134, 79.27822487706739],\n",
       "    [-15.963525285878228, 79.3313032985803],\n",
       "    [-15.966181594385334, 79.33129520281486],\n",
       "    [-21.585876617102517, 78.08645936055878],\n",
       "    [-21.83888418757499, 78.02077565637953],\n",
       "    [-21.508648920183358, 77.96537126013739],\n",
       "    [-16.406833844562694, 76.98420700146296],\n",
       "    [-16.024193521190767, 76.90004601351069],\n",
       "    [-15.70627091697092, 76.97323551308642],\n",
       "    [-15.161231635385239, 77.09610210532725],\n",
       "    [-14.623988512891286, 77.21398158909658],\n",
       "    [-13.989294663138036, 77.34925365671747],\n",
       "    [-13.339979623691255, 77.48338455018072],\n",
       "    [-12.685696085613664, 77.61428433441917],\n",
       "    [-12.004267165827045, 77.74630310633523],\n",
       "    [-11.360087744970793, 77.86711877183545],\n",
       "    [-10.748145650613159, 77.97847329044309]]},\n",
       "  'REFLECTIVE_SAMPLES': 9161,\n",
       "  'GROUND_CONTROL_POINTS_VERSION': 5,\n",
       "  'SUN_AZIMUTH': -161.80056946,\n",
       "  'DATA_SOURCE_TIRS_STRAY_LIGHT_CORRECTION': 'TIRS',\n",
       "  'UTM_ZONE': 28,\n",
       "  'DATE_ACQUIRED': '2014-06-09',\n",
       "  'ELLIPSOID': 'WGS84',\n",
       "  'system:time_end': 1402322883992,\n",
       "  'DATA_SOURCE_PRESSURE': 'Calculated',\n",
       "  'LANDSAT_PRODUCT_ID': 'LC08_L2SP_001004_20140609_20200911_02_T1',\n",
       "  'STATION_ID': 'LGN',\n",
       "  'TEMPERATURE_ADD_BAND_ST_B10': 149,\n",
       "  'DATA_SOURCE_REANALYSIS': 'GEOS-5 FP-IT',\n",
       "  'REFLECTANCE_MULT_BAND_7': 2.75e-05,\n",
       "  'system:time_start': 1402322883992,\n",
       "  'REFLECTANCE_MULT_BAND_6': 2.75e-05,\n",
       "  'L1_PROCESSING_LEVEL': 'L1TP',\n",
       "  'PROCESSING_SOFTWARE_VERSION': 'LPGS_15.3.1c',\n",
       "  'L1_DATE_PRODUCT_GENERATED': '2020-09-11T12:27:37Z',\n",
       "  'ORIENTATION': 'NORTH_UP',\n",
       "  'REFLECTANCE_MULT_BAND_1': 2.75e-05,\n",
       "  'WRS_ROW': 4,\n",
       "  'REFLECTANCE_MULT_BAND_3': 2.75e-05,\n",
       "  'REFLECTANCE_MULT_BAND_2': 2.75e-05,\n",
       "  'TARGET_WRS_ROW': 4,\n",
       "  'REFLECTANCE_MULT_BAND_5': 2.75e-05,\n",
       "  'REFLECTANCE_MULT_BAND_4': 2.75e-05,\n",
       "  'THERMAL_LINES': 9161,\n",
       "  'TIRS_SSM_POSITION_STATUS': 'NOMINAL',\n",
       "  'GRID_CELL_SIZE_THERMAL': 30,\n",
       "  'IMAGE_QUALITY_TIRS': 9,\n",
       "  'TRUNCATION_OLI': 'UPPER',\n",
       "  'NADIR_OFFNADIR': 'NADIR',\n",
       "  'CLOUD_COVER': 23.83,\n",
       "  'REQUEST_ID': 'L2',\n",
       "  'EARTH_SUN_DISTANCE': 1.0151027,\n",
       "  'TIRS_SSM_MODEL': 'ACTUAL',\n",
       "  'COLLECTION_CATEGORY': 'T1',\n",
       "  'SCENE_CENTER_TIME': '14:08:03.9927820Z',\n",
       "  'GRID_CELL_SIZE_REFLECTIVE': 30,\n",
       "  'SUN_ELEVATION': 34.31007828,\n",
       "  'ALGORITHM_SOURCE_SURFACE_TEMPERATURE': 'st_1.3.0',\n",
       "  'TEMPERATURE_MAXIMUM_BAND_ST_B10': 372.999941,\n",
       "  'CLOUD_COVER_LAND': 0,\n",
       "  'GEOMETRIC_RMSE_MODEL': 8.474,\n",
       "  'ROLL_ANGLE': -0.001,\n",
       "  'COLLECTION_NUMBER': 2,\n",
       "  'DATE_PRODUCT_GENERATED': 1599829826000,\n",
       "  'L1_REQUEST_ID': 'L2',\n",
       "  'DATA_SOURCE_OZONE': 'MODIS',\n",
       "  'SATURATION_BAND_1': 'N',\n",
       "  'DATA_SOURCE_WATER_VAPOR': 'MODIS',\n",
       "  'SATURATION_BAND_2': 'N',\n",
       "  'SATURATION_BAND_3': 'N',\n",
       "  'IMAGE_QUALITY_OLI': 9,\n",
       "  'SATURATION_BAND_4': 'N',\n",
       "  'LANDSAT_SCENE_ID': 'LC80010042014160LGN01',\n",
       "  'SATURATION_BAND_5': 'N',\n",
       "  'MAP_PROJECTION': 'UTM',\n",
       "  'SATURATION_BAND_6': 'N',\n",
       "  'SENSOR_ID': 'OLI_TIRS',\n",
       "  'SATURATION_BAND_7': 'N',\n",
       "  'SATURATION_BAND_8': 'N',\n",
       "  'WRS_PATH': 1,\n",
       "  'SATURATION_BAND_9': 'N',\n",
       "  'TARGET_WRS_PATH': 1,\n",
       "  'L1_PROCESSING_SOFTWARE_VERSION': 'LPGS_15.3.1c',\n",
       "  'TEMPERATURE_MULT_BAND_ST_B10': 0.00341802,\n",
       "  'L1_LANDSAT_PRODUCT_ID': 'LC08_L1TP_001004_20140609_20200911_02_T1',\n",
       "  'PROCESSING_LEVEL': 'L2SP',\n",
       "  'ALGORITHM_SOURCE_SURFACE_REFLECTANCE': 'LaSRC_1.5.0',\n",
       "  'GROUND_CONTROL_POINTS_MODEL': 22,\n",
       "  'SPACECRAFT_ID': 'LANDSAT_8',\n",
       "  'TEMPERATURE_MINIMUM_BAND_ST_B10': 149.003418,\n",
       "  'GEOMETRIC_RMSE_MODEL_Y': 6.025,\n",
       "  'REFLECTIVE_LINES': 9161,\n",
       "  'GEOMETRIC_RMSE_MODEL_X': 5.96,\n",
       "  'THERMAL_SAMPLES': 9161,\n",
       "  'system:asset_size': 814585572,\n",
       "  'DATA_SOURCE_AIR_TEMPERATURE': 'MODIS',\n",
       "  'system:index': 'LC08_001004_20140609'}}"
      ]
     },
     "execution_count": 49,
     "metadata": {},
     "output_type": "execute_result"
    }
   ],
   "source": [
    "# Explore the metadata - metadata display: coordinate information, parameters, information on missing data\n",
    "\n",
    "bands = testImg.bandNames()\n",
    "str(bands.getInfo())\n",
    "testImg.getInfo()"
   ]
  },
  {
   "cell_type": "code",
   "execution_count": 50,
   "id": "b43edd24-38df-4838-be8b-4fb136278d65",
   "metadata": {},
   "outputs": [],
   "source": [
    "# Filter data for mean values from September 2021\n",
    "#data = data.filterBounds(roi).filter(ee.Filter.date('2021-09-01', '2021-09-07')) # Image collection\n"
   ]
  },
  {
   "cell_type": "code",
   "execution_count": 79,
   "id": "58fd828d-767b-4b8c-9d29-482ded3ad50c",
   "metadata": {},
   "outputs": [],
   "source": [
    "# cloud filter\n",
    "\n",
    "data = data.filter('CLOUD_COVER < 20')"
   ]
  },
  {
   "cell_type": "code",
   "execution_count": 80,
   "id": "bf00cf9e-b54b-4289-aad9-f3ccfd01ffcb",
   "metadata": {},
   "outputs": [],
   "source": [
    "\n",
    "\n",
    "data_mean = data.filterBounds(roi).filter(ee.Filter.date('2021-07-01', '2021-10-30')).mean() # Single image"
   ]
  },
  {
   "cell_type": "code",
   "execution_count": 81,
   "id": "08b6d1df-8193-4257-a442-c5a0ab052a2b",
   "metadata": {},
   "outputs": [],
   "source": [
    "# The bands that we are interested in. \n",
    "# SR_B1 (band 1) is useful for coastal and aerosol studies. \n",
    "# SR_B5 (band 5) emphasizes biomass content and shorelines.\n",
    "# SR_B7 (band 7) Improved moisture content of soil and vegetation; penetrates thin clouds.\n",
    "visParams = {'bands': ['SR_B4', 'SR_B3', 'SR_B2'],\n",
    "             'min': 1,\n",
    "             'max': 65455\n",
    "            }"
   ]
  },
  {
   "cell_type": "code",
   "execution_count": 82,
   "id": "a19e6d7e-2298-412d-a7dd-66ef025a791a",
   "metadata": {
    "tags": []
   },
   "outputs": [
    {
     "data": {
      "application/vnd.jupyter.widget-view+json": {
       "model_id": "4df58222fcaf4a448a006ab030f6a538",
       "version_major": 2,
       "version_minor": 0
      },
      "text/plain": [
       "Map(center=[32.05, -104.74], controls=(WidgetControl(options=['position', 'transparent_bg'], widget=HBox(child…"
      ]
     },
     "metadata": {},
     "output_type": "display_data"
    }
   ],
   "source": [
    "# Basic map of with data from the bands that we are looking at.\n",
    "map = geemap.Map(center = [center_lat, center_lon], zoom = 7)\n",
    "map.addLayer(data_mean, visParams)\n",
    "map"
   ]
  },
  {
   "cell_type": "markdown",
   "id": "f11a8531-0693-4440-b028-ae96ec9c3aad",
   "metadata": {
    "tags": []
   },
   "source": [
    "<a id='usecase'></a> \n",
    "### Use Case Example: Identifying Gypsic Soils"
   ]
  },
  {
   "cell_type": "markdown",
   "id": "d7771e0d-5995-4cab-8995-a20b879a2135",
   "metadata": {},
   "source": [
    "#### Mapping habitat suitability for the identification and conservation of the Guadalupe Mountain necklacepod (*Sophora gypsophila*)"
   ]
  },
  {
   "cell_type": "markdown",
   "id": "9953cd9f-0ec8-4696-a659-c48646da4fed",
   "metadata": {},
   "source": [
    "You don't have to be a rocket scientist to use satellite data! This part of the tutorial will focus on an application useful to many conservation ecologists: identifying potential habitat for a threatened species.\n",
    "\n",
    "_Sophora gypsophila_ is a G1 Critically Endangered shrub in the pea family endemic to a small area surrounding the Guadalupe mountains in Southeastern New Mexico and Western Texas. Part of what puts _S. gypsophila_ at suck risk is the fact that it is a substrate obligate - in other words, it can only survive in a specific soil type. But this also gives us an advantage: it means that we can identify potentially suitable habitat simply by mapping the gypsic areas in the vicinity of existing populations of _S. gypsophila_ and subsetting these areas by the plant's known elevation range. This can be done using Landsat bands 1, 5, and 7, taking advantage of the fact that gypsic soils are highly reflective in band 5 () but particularly nonreflective in band 7 ().\n",
    "\n",
    "An additional step in adapting Landsat data for conservation purposes would be comparing our identified habitat with land ownership maps in the region to target separate management solutions for public and private land, but we will not explore that step in this notebook."
   ]
  },
  {
   "cell_type": "code",
   "execution_count": 59,
   "id": "0940260e-e64f-49af-80e1-021359dea36f",
   "metadata": {
    "tags": []
   },
   "outputs": [],
   "source": [
    "nir = data_mean.select('SR_B5') # Near infrared - Emphasizes biomass content and shorelines.\n",
    "swir2 = data_mean.select('SR_B7') # Short wave infrared - Improved moisture content of soil and vegetation.\n",
    "\n",
    "oif = (nir.subtract(swir2)).divide((nir.add(swir2))).rename('OIF') # optimum index factor statistical value to select the optimum combination of three bands for a satellite image\n",
    "\n",
    "data_oif = data_mean.addBands(oif)"
   ]
  },
  {
   "cell_type": "markdown",
   "id": "309ae040-5c30-4bc6-873c-cb8e7813ee55",
   "metadata": {},
   "source": [
    "Now we can redefine the band parameters we are mapping to look at OIF specifically:"
   ]
  },
  {
   "cell_type": "code",
   "execution_count": 62,
   "id": "28824452-7714-4e9a-933f-0ed0bdc09eec",
   "metadata": {},
   "outputs": [],
   "source": [
    "visParamsoif = {'bands': ['OIF'],\n",
    "             'min': -1,\n",
    "             'max': 1,\n",
    "             'palette': ['white', 'green']\n",
    "            }"
   ]
  },
  {
   "cell_type": "code",
   "execution_count": 63,
   "id": "3aa1b689-cdb1-4bbd-9a71-9c78a71cf29f",
   "metadata": {
    "collapsed": true,
    "jupyter": {
     "outputs_hidden": true
    },
    "tags": []
   },
   "outputs": [
    {
     "name": "stdout",
     "output_type": "stream",
     "text": [
      "NLCD\n",
      "NWI\n",
      "MODIS/051/MCD12Q1\n",
      "GLOBCOVER\n",
      "JAXA/PALSAR\n",
      "MODIS/006/MCD12Q1\n",
      "Oxford\n",
      "AAFC/ACI\n",
      "COPERNICUS/CORINE/V20/100m\n",
      "COPERNICUS/Landcover/100m/Proba-V/Global\n",
      "USDA/NASS/CDL\n"
     ]
    },
    {
     "data": {
      "application/vnd.jupyter.widget-view+json": {
       "model_id": "5c6a3b467ba842beb383cc92daadeccc",
       "version_major": 2,
       "version_minor": 0
      },
      "text/plain": [
       "Map(center=[32.05, -104.74], controls=(WidgetControl(options=['position', 'transparent_bg'], widget=HBox(child…"
      ]
     },
     "metadata": {},
     "output_type": "display_data"
    }
   ],
   "source": [
    "map_oif = geemap.Map(center = [center_lat, center_lon], zoom = 7)\n",
    "legends = geemap.builtin_legends\n",
    "for legend in legends :\n",
    "    print(legend)\n",
    "map_oif.addLayer(data_oif, visParamsoif)\n",
    "#map_oif.add_legend(builtin_legend = \"NLCD\") # Experimenting with legends\n",
    "map_oif"
   ]
  },
  {
   "cell_type": "code",
   "execution_count": 13,
   "id": "9845d21a-5780-4b40-8c33-de886f30d33a",
   "metadata": {},
   "outputs": [],
   "source": [
    "data_oif_mask = data_oif.mask('need conditional here')"
   ]
  },
  {
   "cell_type": "code",
   "execution_count": null,
   "id": "c6f0b53f-ea70-4da9-9237-c5b564fd20c2",
   "metadata": {},
   "outputs": [],
   "source": []
  },
  {
   "cell_type": "markdown",
   "id": "b460a55b-3a0d-4996-808d-e4f74b8c3ada",
   "metadata": {},
   "source": [
    "<a id='binder'></a> \n",
    "### Create Binder Environment"
   ]
  },
  {
   "cell_type": "markdown",
   "id": "40697ca8-9d7a-4f95-9b08-6375a09ea0a4",
   "metadata": {},
   "source": [
    "<a id='references'></a> \n",
    "### References\n",
    "\n",
    "Binte Mostafiz, R.; Noguchi, R.; Ahamed, T. Agricultural Land Suitability Assessment Using Satellite Remote Sensing-Derived Soil-Vegetation Indices. Land 2021, 10, 223. https://doi.org/10.3390/land10020223\n",
    "\n",
    "Boettinger, J., Ramsey, R., Bodily, J., Cole, N., Kienast-brown, S., Nield, S., Saunders, A., & Stum, A. (2008). Landsat Spectral Data for Digital Soil Mapping. Digital Soil Mapping with Limited Data. https://doi.org/10.1007/978-1-4020-8592-5_16\n",
    "\n",
    "Browning, D. M., & Duniway, M. C. (2011). Digital Soil Mapping in the Absence of Field Training Data: A Case Study Using Terrain Attributes and Semiautomated Soil Signature Derivation to Distinguish Ecological Potential. Applied and Environmental Soil Science, 2011, e421904. https://doi.org/10.1155/2011/421904\n",
    "\n",
    "Landsat 8 data courtesy of the U.S. Geological Survey. https://developers.google.com/earth-engine/datasets/catalog/LANDSAT_LC08_C02_T1_L2#image-properties\n",
    "\n",
    "Nield, S. J., Boettinger, J. L., & Ramsey, R. D. (2007). Digitally Mapping Gypsic and Natric Soil Areas Using Landsat ETM Data. Soil Science Society of America Journal, 71(1), 245–252. https://doi.org/10.2136/sssaj2006-0049\n",
    "\n",
    "Ridwan, M. A., Radzi, N., Ahmad, W., Mustafa, I., Din, N., Jalil, Y., Isa, A., Othman A., Zaki, W. Applications of Landsat-8 Data: Survey. Internation Journal of Engineering & Techonology 2018, 11, 436-441. DOI:10.14419/ijet.v7i4.35.22858\n",
    "\n",
    "Sophora gypsophila | NatureServe Explorer. (n.d.). Retrieved November 16, 2021, from https://explorer.natureserve.org/Taxon/ELEMENT_GLOBAL.2.155365/Sophora_gypsophila\n",
    "\n",
    "Soil Survey Manual - Ch. 5. Digital Soil Mapping | NRCS Soils. (n.d.). Retrieved November 16, 2021, from https://www.nrcs.usda.gov/wps/portal/nrcs/detail/soils/ref/?cid=nrcs142p2_054255\n",
    "\n",
    "Texas Native Plants Database. (n.d.). Retrieved November 16, 2021, from https://aggie-horticulture.tamu.edu/ornamentals/nativeshrubs/sophoragypsophila.htm\n",
    "\n",
    "Vermote, E., Justice, C., Claverie, M., & Franch, B. (2016). Preliminary analysis of the performance of the Landsat 8/OLI land surface reflectance product. Remote Sensing of Environment, 185, 46-56.\n"
   ]
  },
  {
   "cell_type": "code",
   "execution_count": null,
   "id": "5dba637f-0c1d-40ac-a685-62578cd90354",
   "metadata": {},
   "outputs": [],
   "source": []
  }
 ],
 "metadata": {
  "kernelspec": {
   "display_name": "Python 3 (ipykernel)",
   "language": "python",
   "name": "python3"
  },
  "language_info": {
   "codemirror_mode": {
    "name": "ipython",
    "version": 3
   },
   "file_extension": ".py",
   "mimetype": "text/x-python",
   "name": "python",
   "nbconvert_exporter": "python",
   "pygments_lexer": "ipython3",
   "version": "3.9.7"
  }
 },
 "nbformat": 4,
 "nbformat_minor": 5
}
