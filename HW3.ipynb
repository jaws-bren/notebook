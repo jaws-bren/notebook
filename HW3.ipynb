{
 "cells": [
  {
   "cell_type": "markdown",
   "id": "63b97f48-c12d-4f2d-a1c6-e993371eae5e",
   "metadata": {},
   "source": [
    "# Landsat 8: \n",
    "## EDS 220, Fall 2021\n",
    "Friday, November 19"
   ]
  },
  {
   "cell_type": "markdown",
   "id": "73253f48-a0a1-400a-9680-b013de5b8be4",
   "metadata": {},
   "source": [
    "## Authors\n",
    "\n",
    "- Alex Vand, UC Santa Barbara (asy@bren.ucsb.edu)\n",
    "- Julia Parish, UC Santa Barbara (jparish@bren.ucsb.edu)\n",
    "- Wylie Hampson, UC Santa Barbara (whampson@bren.ucsb.edu)\n",
    "- Shale Hunter, UC Santa Barbara (shale@bren.ucsb.edu)"
   ]
  },
  {
   "cell_type": "markdown",
   "id": "51e07e4b-59dd-4f79-a599-296f2ba7c09a",
   "metadata": {},
   "source": [
    "## Table of Contents\n",
    "\n",
    "[1. Purpose](#purpose)\n",
    "\n",
    "[2. Dataset Description](#overview)\n",
    "\n",
    "[3. Data I/O](#io)\n",
    "\n",
    "[4. Metadata Display and Basic Visualization](#display)\n",
    "\n",
    "[5. Use Case Examples](#usecases)\n",
    "\n",
    "[6. Create Binder Environment](#binder)\n",
    "\n",
    "[7. References](#references)"
   ]
  },
  {
   "cell_type": "markdown",
   "id": "e7721146-dbd0-4955-ae95-313272cea288",
   "metadata": {
    "tags": []
   },
   "source": [
    "<a id='purpose'></a> \n",
    "### Notebook Purpose\n",
    "\n",
    "This notebook was created to provide an introduction to using satellite data from the <a href=\"https://developers.google.com/earth-engine/datasets/catalog/LANDSAT_LC08_C02_T1_L2#description/\" target=\"_blank\">USGS Landsat 8 Level 2, Collection 2, Tier 1</a> sourced from Google Earth Engine for analysis to identify soil composition.\n"
   ]
  },
  {
   "cell_type": "markdown",
   "id": "cbfff42f-a933-478c-8330-0104769db1f1",
   "metadata": {},
   "source": [
    "<a id='overview'></a> \n",
    "### Dataset Description\n",
    "\n",
    "\n",
    "- The creators of the dataset: Joint program of USGS and NASA\n",
    "\n",
    "- Major characteristics of the dataset: \n",
    "\n",
    "Data collected from 2013-04-11 to 2021-10-21.\n",
    "Landsat satellites image the entire Earth every 16 days; 99 min per orbit.\n",
    "CRS: WGS 84\n",
    "Surface reflectance, not top of atmosphere.\n",
    "Bands: 5 visible and near-infrared, 2 shortwave infrared, 1 thermal band\n",
    "\n",
    "- The file format(s) used to store the data: TIFF\n",
    "\n",
    "- The source/archive you will be using to retrieve the data: Google Earth Engine <a href=\"https://developers.google.com/earth-engine/datasets/catalog/LANDSAT_LC08_C02_T1_L2#description/\" target=\"_blank\">USGS Landsat 8 Level 2, Collection 2, Tier 1</a>\n",
    "\n",
    "- Any known issues with data quality that might be expected to impact the results<br>\n",
    "Since the data is coming from Landsat 8, we can trust that it is generally pretty reliable data. The remote sensing equipment on Landsat 8 is the Operational Land Imager (OLI) which is a multichannel scanning radiometer,and a two-channel infared radiometer, Thermal Infrared Sensor (TIRS).<br>\n",
    "There are some known issues with this dataset, but many of them don’t concern most people that may be using this data. One of the most concerning issues is with cloud cover and cloud shadows. The data from this dataset can be affected if there is heavy cloud coverage. The images from the dataset have a 30 meter resolution which will allow us to get high definition images for the area of land that we will be looking at. If you were to look at a small area of land, say a few square kilometers, this data set may not be ideal because the 30 meter resolution won’t allow you to see much detail, but for this use case it works well."
   ]
  },
  {
   "cell_type": "markdown",
   "id": "bbd9d12b-13e5-47ac-8100-af02ac0c1dfb",
   "metadata": {},
   "source": [
    "<a id='io'></a> \n",
    "### Dataset Input/Output "
   ]
  },
  {
   "cell_type": "code",
   "execution_count": 18,
   "id": "e385630f-a73f-47b7-9481-bf5502720493",
   "metadata": {},
   "outputs": [],
   "source": [
    "import ee\n",
    "import geemap\n",
    "import pandas as pd\n",
    "import matplotlib.pyplot as plt\n",
    "import numpy as np"
   ]
  },
  {
   "cell_type": "code",
   "execution_count": 2,
   "id": "4c6f5e4c-79d9-4798-bab2-e0ff251d6051",
   "metadata": {},
   "outputs": [
    {
     "data": {
      "text/html": [
       "<p>To authorize access needed by Earth Engine, open the following\n",
       "        URL in a web browser and follow the instructions:</p>\n",
       "        <p><a href=https://accounts.google.com/o/oauth2/auth?client_id=517222506229-vsmmajv00ul0bs7p89v5m89qs8eb9359.apps.googleusercontent.com&scope=https%3A%2F%2Fwww.googleapis.com%2Fauth%2Fearthengine+https%3A%2F%2Fwww.googleapis.com%2Fauth%2Fdevstorage.full_control&redirect_uri=urn%3Aietf%3Awg%3Aoauth%3A2.0%3Aoob&response_type=code&code_challenge=a0TweVGjb9ISwnzf6zpzvuWjLpsjwGsrwmZ64CRE6ok&code_challenge_method=S256>https://accounts.google.com/o/oauth2/auth?client_id=517222506229-vsmmajv00ul0bs7p89v5m89qs8eb9359.apps.googleusercontent.com&scope=https%3A%2F%2Fwww.googleapis.com%2Fauth%2Fearthengine+https%3A%2F%2Fwww.googleapis.com%2Fauth%2Fdevstorage.full_control&redirect_uri=urn%3Aietf%3Awg%3Aoauth%3A2.0%3Aoob&response_type=code&code_challenge=a0TweVGjb9ISwnzf6zpzvuWjLpsjwGsrwmZ64CRE6ok&code_challenge_method=S256</a></p>\n",
       "        <p>The authorization workflow will generate a code, which you\n",
       "        should paste in the box below</p>\n",
       "        "
      ],
      "text/plain": [
       "<IPython.core.display.HTML object>"
      ]
     },
     "metadata": {},
     "output_type": "display_data"
    },
    {
     "name": "stdin",
     "output_type": "stream",
     "text": [
      "Enter verification code:  4/1AX4XfWg0JzzGi8u-wLDJ3Hkk9lsIIuKboMKxiUbY6nvI6OWUFFy4VFDlhy0\n"
     ]
    },
    {
     "name": "stdout",
     "output_type": "stream",
     "text": [
      "\n",
      "Successfully saved authorization token.\n"
     ]
    }
   ],
   "source": [
    "ee.Authenticate()\n",
    "ee.Initialize()"
   ]
  },
  {
   "cell_type": "markdown",
   "id": "41944590-a524-47e9-afbd-3d4d32306c10",
   "metadata": {},
   "source": [
    "<a id='display'></a> \n",
    "### Metadata Display and Basic Visualization"
   ]
  },
  {
   "cell_type": "code",
   "execution_count": 113,
   "id": "a1c2f4ee-ecba-4ff3-9ed6-f290b409cc30",
   "metadata": {},
   "outputs": [],
   "source": [
    "# create a centroid over region of interest, Guadalupe Mountains of New Mexico and Texas\n",
    "\n",
    "center_lat = 32.05\n",
    "center_lon = -104.74\n",
    "center_point = ee.Geometry.Point(center_lon, center_lat)\n",
    "roi = center_point.buffer(50000)"
   ]
  },
  {
   "cell_type": "code",
   "execution_count": 114,
   "id": "a2d56586-439d-41db-a4ac-a1c78015c7e1",
   "metadata": {},
   "outputs": [],
   "source": [
    "# read in Landsat 8 data from Google Earth Engine and create boundary filter using centroid point\n",
    "\n",
    "data = ee.ImageCollection(\"LANDSAT/LC08/C02/T1_L2\").filterBounds(roi).filter(ee.Filter.date('2021-09-01', '2021-09-30')).mean()"
   ]
  },
  {
   "cell_type": "code",
   "execution_count": 133,
   "id": "08b6d1df-8193-4257-a442-c5a0ab052a2b",
   "metadata": {},
   "outputs": [],
   "source": [
    "visParams = {'bands': ['SR_B1', 'SR_B5', 'SR_B7'],\n",
    "             'min': 1,\n",
    "             'max': 65455\n",
    "            }"
   ]
  },
  {
   "cell_type": "code",
   "execution_count": 134,
   "id": "a19e6d7e-2298-412d-a7dd-66ef025a791a",
   "metadata": {},
   "outputs": [
    {
     "data": {
      "application/vnd.jupyter.widget-view+json": {
       "model_id": "9af39e7416094de9864ea0f409b31147",
       "version_major": 2,
       "version_minor": 0
      },
      "text/plain": [
       "Map(center=[32.05, -104.74], controls=(WidgetControl(options=['position', 'transparent_bg'], widget=HBox(child…"
      ]
     },
     "metadata": {},
     "output_type": "display_data"
    }
   ],
   "source": [
    "map = geemap.Map(center = [center_lat, center_lon], zoom = 7)\n",
    "map.addLayer(data, visParams)\n",
    "map"
   ]
  },
  {
   "cell_type": "code",
   "execution_count": 124,
   "id": "0940260e-e64f-49af-80e1-021359dea36f",
   "metadata": {},
   "outputs": [],
   "source": [
    "nir = data.select('SR_B5')\n",
    "swir2 = data.select('SR_B7')\n",
    "\n",
    "oif = (nir.subtract(swir2)).divide((nir.add(swir2))).rename('OIF')\n",
    "\n",
    "data_oif = data.addBands(oif)"
   ]
  },
  {
   "cell_type": "code",
   "execution_count": 125,
   "id": "3aa1b689-cdb1-4bbd-9a71-9c78a71cf29f",
   "metadata": {},
   "outputs": [],
   "source": [
    "map.addLayer(data_oif, visParams)"
   ]
  },
  {
   "cell_type": "code",
   "execution_count": 126,
   "id": "9845d21a-5780-4b40-8c33-de886f30d33a",
   "metadata": {},
   "outputs": [],
   "source": [
    "data_oif_mask = data_oif.mask('need conditional here')"
   ]
  },
  {
   "cell_type": "markdown",
   "id": "f11a8531-0693-4440-b028-ae96ec9c3aad",
   "metadata": {},
   "source": [
    "<a id='usecase'></a> \n",
    "### Use Case Example"
   ]
  },
  {
   "cell_type": "markdown",
   "id": "b460a55b-3a0d-4996-808d-e4f74b8c3ada",
   "metadata": {},
   "source": [
    "<a id='binder'></a> \n",
    "### Create Binder Environment"
   ]
  },
  {
   "cell_type": "markdown",
   "id": "40697ca8-9d7a-4f95-9b08-6375a09ea0a4",
   "metadata": {},
   "source": [
    "<a id='references'></a> \n",
    "### References\n",
    "\n",
    "Binte Mostafiz, R.; Noguchi, R.; Ahamed, T. Agricultural Land Suitability Assessment Using Satellite Remote Sensing-Derived Soil-Vegetation Indices. Land 2021, 10, 223. https://doi.org/10.3390/land10020223\n",
    "\n",
    "Landsat 8 data courtesy of the U.S. Geological Survey. https://developers.google.com/earth-engine/datasets/catalog/LANDSAT_LC08_C02_T1_L2#image-properties\n",
    "\n",
    "Ridwan, M. A., Radzi, N., Ahmad, W., Mustafa, I., Din, N., Jalil, Y., Isa, A., Othman A., Zaki, W. Applications of Landsat-8 Data: Survey. Internation Journal of Engineering & Techonology 2018, 11, 436-441. DOI:10.14419/ijet.v7i4.35.22858\n",
    "\n",
    "Vermote, E., Justice, C., Claverie, M., & Franch, B. (2016). Preliminary analysis of the performance of the Landsat 8/OLI land surface reflectance product. Remote Sensing of Environment, 185, 46-56.\n",
    "\n",
    "\n"
   ]
  }
 ],
 "metadata": {
  "kernelspec": {
   "display_name": "Python 3 (ipykernel)",
   "language": "python",
   "name": "python3"
  },
  "language_info": {
   "codemirror_mode": {
    "name": "ipython",
    "version": 3
   },
   "file_extension": ".py",
   "mimetype": "text/x-python",
   "name": "python",
   "nbconvert_exporter": "python",
   "pygments_lexer": "ipython3",
   "version": "3.9.7"
  }
 },
 "nbformat": 4,
 "nbformat_minor": 5
}
